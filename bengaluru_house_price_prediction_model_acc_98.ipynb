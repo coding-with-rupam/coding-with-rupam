{
  "metadata": {
    "kernelspec": {
      "language": "python",
      "display_name": "Python 3",
      "name": "python3"
    },
    "language_info": {
      "pygments_lexer": "ipython3",
      "nbconvert_exporter": "python",
      "version": "3.6.4",
      "file_extension": ".py",
      "codemirror_mode": {
        "name": "ipython",
        "version": 3
      },
      "name": "python",
      "mimetype": "text/x-python"
    },
    "colab": {
      "provenance": [],
      "include_colab_link": true
    }
  },
  "nbformat_minor": 0,
  "nbformat": 4,
  "cells": [
    {
      "cell_type": "markdown",
      "metadata": {
        "id": "view-in-github",
        "colab_type": "text"
      },
      "source": [
        "<a href=\"https://colab.research.google.com/github/coding-with-rupam/coding-with-rupam/blob/main/bengaluru_house_price_prediction_model_acc_98.ipynb\" target=\"_parent\"><img src=\"https://colab.research.google.com/assets/colab-badge.svg\" alt=\"Open In Colab\"/></a>"
      ]
    },
    {
      "cell_type": "markdown",
      "source": [
        "## Importing Important Liabraries"
      ],
      "metadata": {
        "id": "Gd35NxCWxSTL"
      }
    },
    {
      "cell_type": "code",
      "source": [
        "import numpy as np\n",
        "import pandas as pd\n",
        "import matplotlib.pyplot as plt\n",
        "import seaborn as sns"
      ],
      "metadata": {
        "execution": {
          "iopub.status.busy": "2022-08-23T04:51:05.503974Z",
          "iopub.execute_input": "2022-08-23T04:51:05.504468Z",
          "iopub.status.idle": "2022-08-23T04:51:05.510892Z",
          "shell.execute_reply.started": "2022-08-23T04:51:05.504429Z",
          "shell.execute_reply": "2022-08-23T04:51:05.509369Z"
        },
        "trusted": true,
        "id": "9OWZz9NOxSTO"
      },
      "execution_count": 1,
      "outputs": []
    },
    {
      "cell_type": "markdown",
      "source": [
        "## Importing csv File"
      ],
      "metadata": {
        "id": "puwo6SfsxSTQ"
      }
    },
    {
      "cell_type": "code",
      "source": [
        "df = pd.read_csv(\"Bengaluru_House_Data.csv\")"
      ],
      "metadata": {
        "execution": {
          "iopub.status.busy": "2022-08-23T04:51:05.512876Z",
          "iopub.execute_input": "2022-08-23T04:51:05.513833Z",
          "iopub.status.idle": "2022-08-23T04:51:05.553079Z",
          "shell.execute_reply.started": "2022-08-23T04:51:05.513797Z",
          "shell.execute_reply": "2022-08-23T04:51:05.55164Z"
        },
        "trusted": true,
        "id": "oQFIH6bwxSTR"
      },
      "execution_count": 2,
      "outputs": []
    },
    {
      "cell_type": "markdown",
      "source": [
        "## Analysing the DataFrame"
      ],
      "metadata": {
        "id": "3cIunCLQxSTR"
      }
    },
    {
      "cell_type": "code",
      "source": [
        "df.head()"
      ],
      "metadata": {
        "execution": {
          "iopub.status.busy": "2022-08-23T04:51:05.554935Z",
          "iopub.execute_input": "2022-08-23T04:51:05.555385Z",
          "iopub.status.idle": "2022-08-23T04:51:05.575416Z",
          "shell.execute_reply.started": "2022-08-23T04:51:05.555346Z",
          "shell.execute_reply": "2022-08-23T04:51:05.573752Z"
        },
        "trusted": true,
        "colab": {
          "base_uri": "https://localhost:8080/",
          "height": 250
        },
        "id": "_VssEHuHxSTR",
        "outputId": "8f2635a9-b26e-43f7-a29a-66b331aa5835"
      },
      "execution_count": 3,
      "outputs": [
        {
          "output_type": "execute_result",
          "data": {
            "text/plain": [
              "              area_type   availability                  location       size  \\\n",
              "0  Super built-up  Area         19-Dec  Electronic City Phase II      2 BHK   \n",
              "1            Plot  Area  Ready To Move          Chikka Tirupathi  4 Bedroom   \n",
              "2        Built-up  Area  Ready To Move               Uttarahalli      3 BHK   \n",
              "3  Super built-up  Area  Ready To Move        Lingadheeranahalli      3 BHK   \n",
              "4  Super built-up  Area  Ready To Move                  Kothanur      2 BHK   \n",
              "\n",
              "   society total_sqft  bath  balcony   price  \n",
              "0  Coomee        1056   2.0      1.0   39.07  \n",
              "1  Theanmp       2600   5.0      3.0  120.00  \n",
              "2      NaN       1440   2.0      3.0   62.00  \n",
              "3  Soiewre       1521   3.0      1.0   95.00  \n",
              "4      NaN       1200   2.0      1.0   51.00  "
            ],
            "text/html": [
              "\n",
              "  <div id=\"df-a0cef081-61cd-4e16-8e3f-b50cad81eb58\">\n",
              "    <div class=\"colab-df-container\">\n",
              "      <div>\n",
              "<style scoped>\n",
              "    .dataframe tbody tr th:only-of-type {\n",
              "        vertical-align: middle;\n",
              "    }\n",
              "\n",
              "    .dataframe tbody tr th {\n",
              "        vertical-align: top;\n",
              "    }\n",
              "\n",
              "    .dataframe thead th {\n",
              "        text-align: right;\n",
              "    }\n",
              "</style>\n",
              "<table border=\"1\" class=\"dataframe\">\n",
              "  <thead>\n",
              "    <tr style=\"text-align: right;\">\n",
              "      <th></th>\n",
              "      <th>area_type</th>\n",
              "      <th>availability</th>\n",
              "      <th>location</th>\n",
              "      <th>size</th>\n",
              "      <th>society</th>\n",
              "      <th>total_sqft</th>\n",
              "      <th>bath</th>\n",
              "      <th>balcony</th>\n",
              "      <th>price</th>\n",
              "    </tr>\n",
              "  </thead>\n",
              "  <tbody>\n",
              "    <tr>\n",
              "      <th>0</th>\n",
              "      <td>Super built-up  Area</td>\n",
              "      <td>19-Dec</td>\n",
              "      <td>Electronic City Phase II</td>\n",
              "      <td>2 BHK</td>\n",
              "      <td>Coomee</td>\n",
              "      <td>1056</td>\n",
              "      <td>2.0</td>\n",
              "      <td>1.0</td>\n",
              "      <td>39.07</td>\n",
              "    </tr>\n",
              "    <tr>\n",
              "      <th>1</th>\n",
              "      <td>Plot  Area</td>\n",
              "      <td>Ready To Move</td>\n",
              "      <td>Chikka Tirupathi</td>\n",
              "      <td>4 Bedroom</td>\n",
              "      <td>Theanmp</td>\n",
              "      <td>2600</td>\n",
              "      <td>5.0</td>\n",
              "      <td>3.0</td>\n",
              "      <td>120.00</td>\n",
              "    </tr>\n",
              "    <tr>\n",
              "      <th>2</th>\n",
              "      <td>Built-up  Area</td>\n",
              "      <td>Ready To Move</td>\n",
              "      <td>Uttarahalli</td>\n",
              "      <td>3 BHK</td>\n",
              "      <td>NaN</td>\n",
              "      <td>1440</td>\n",
              "      <td>2.0</td>\n",
              "      <td>3.0</td>\n",
              "      <td>62.00</td>\n",
              "    </tr>\n",
              "    <tr>\n",
              "      <th>3</th>\n",
              "      <td>Super built-up  Area</td>\n",
              "      <td>Ready To Move</td>\n",
              "      <td>Lingadheeranahalli</td>\n",
              "      <td>3 BHK</td>\n",
              "      <td>Soiewre</td>\n",
              "      <td>1521</td>\n",
              "      <td>3.0</td>\n",
              "      <td>1.0</td>\n",
              "      <td>95.00</td>\n",
              "    </tr>\n",
              "    <tr>\n",
              "      <th>4</th>\n",
              "      <td>Super built-up  Area</td>\n",
              "      <td>Ready To Move</td>\n",
              "      <td>Kothanur</td>\n",
              "      <td>2 BHK</td>\n",
              "      <td>NaN</td>\n",
              "      <td>1200</td>\n",
              "      <td>2.0</td>\n",
              "      <td>1.0</td>\n",
              "      <td>51.00</td>\n",
              "    </tr>\n",
              "  </tbody>\n",
              "</table>\n",
              "</div>\n",
              "      <button class=\"colab-df-convert\" onclick=\"convertToInteractive('df-a0cef081-61cd-4e16-8e3f-b50cad81eb58')\"\n",
              "              title=\"Convert this dataframe to an interactive table.\"\n",
              "              style=\"display:none;\">\n",
              "        \n",
              "  <svg xmlns=\"http://www.w3.org/2000/svg\" height=\"24px\"viewBox=\"0 0 24 24\"\n",
              "       width=\"24px\">\n",
              "    <path d=\"M0 0h24v24H0V0z\" fill=\"none\"/>\n",
              "    <path d=\"M18.56 5.44l.94 2.06.94-2.06 2.06-.94-2.06-.94-.94-2.06-.94 2.06-2.06.94zm-11 1L8.5 8.5l.94-2.06 2.06-.94-2.06-.94L8.5 2.5l-.94 2.06-2.06.94zm10 10l.94 2.06.94-2.06 2.06-.94-2.06-.94-.94-2.06-.94 2.06-2.06.94z\"/><path d=\"M17.41 7.96l-1.37-1.37c-.4-.4-.92-.59-1.43-.59-.52 0-1.04.2-1.43.59L10.3 9.45l-7.72 7.72c-.78.78-.78 2.05 0 2.83L4 21.41c.39.39.9.59 1.41.59.51 0 1.02-.2 1.41-.59l7.78-7.78 2.81-2.81c.8-.78.8-2.07 0-2.86zM5.41 20L4 18.59l7.72-7.72 1.47 1.35L5.41 20z\"/>\n",
              "  </svg>\n",
              "      </button>\n",
              "      \n",
              "  <style>\n",
              "    .colab-df-container {\n",
              "      display:flex;\n",
              "      flex-wrap:wrap;\n",
              "      gap: 12px;\n",
              "    }\n",
              "\n",
              "    .colab-df-convert {\n",
              "      background-color: #E8F0FE;\n",
              "      border: none;\n",
              "      border-radius: 50%;\n",
              "      cursor: pointer;\n",
              "      display: none;\n",
              "      fill: #1967D2;\n",
              "      height: 32px;\n",
              "      padding: 0 0 0 0;\n",
              "      width: 32px;\n",
              "    }\n",
              "\n",
              "    .colab-df-convert:hover {\n",
              "      background-color: #E2EBFA;\n",
              "      box-shadow: 0px 1px 2px rgba(60, 64, 67, 0.3), 0px 1px 3px 1px rgba(60, 64, 67, 0.15);\n",
              "      fill: #174EA6;\n",
              "    }\n",
              "\n",
              "    [theme=dark] .colab-df-convert {\n",
              "      background-color: #3B4455;\n",
              "      fill: #D2E3FC;\n",
              "    }\n",
              "\n",
              "    [theme=dark] .colab-df-convert:hover {\n",
              "      background-color: #434B5C;\n",
              "      box-shadow: 0px 1px 3px 1px rgba(0, 0, 0, 0.15);\n",
              "      filter: drop-shadow(0px 1px 2px rgba(0, 0, 0, 0.3));\n",
              "      fill: #FFFFFF;\n",
              "    }\n",
              "  </style>\n",
              "\n",
              "      <script>\n",
              "        const buttonEl =\n",
              "          document.querySelector('#df-a0cef081-61cd-4e16-8e3f-b50cad81eb58 button.colab-df-convert');\n",
              "        buttonEl.style.display =\n",
              "          google.colab.kernel.accessAllowed ? 'block' : 'none';\n",
              "\n",
              "        async function convertToInteractive(key) {\n",
              "          const element = document.querySelector('#df-a0cef081-61cd-4e16-8e3f-b50cad81eb58');\n",
              "          const dataTable =\n",
              "            await google.colab.kernel.invokeFunction('convertToInteractive',\n",
              "                                                     [key], {});\n",
              "          if (!dataTable) return;\n",
              "\n",
              "          const docLinkHtml = 'Like what you see? Visit the ' +\n",
              "            '<a target=\"_blank\" href=https://colab.research.google.com/notebooks/data_table.ipynb>data table notebook</a>'\n",
              "            + ' to learn more about interactive tables.';\n",
              "          element.innerHTML = '';\n",
              "          dataTable['output_type'] = 'display_data';\n",
              "          await google.colab.output.renderOutput(dataTable, element);\n",
              "          const docLink = document.createElement('div');\n",
              "          docLink.innerHTML = docLinkHtml;\n",
              "          element.appendChild(docLink);\n",
              "        }\n",
              "      </script>\n",
              "    </div>\n",
              "  </div>\n",
              "  "
            ]
          },
          "metadata": {},
          "execution_count": 3
        }
      ]
    },
    {
      "cell_type": "code",
      "source": [
        "df.info()"
      ],
      "metadata": {
        "execution": {
          "iopub.status.busy": "2022-08-23T04:51:05.579054Z",
          "iopub.execute_input": "2022-08-23T04:51:05.579613Z",
          "iopub.status.idle": "2022-08-23T04:51:05.599413Z",
          "shell.execute_reply.started": "2022-08-23T04:51:05.579567Z",
          "shell.execute_reply": "2022-08-23T04:51:05.598439Z"
        },
        "trusted": true,
        "colab": {
          "base_uri": "https://localhost:8080/"
        },
        "id": "J3ux6Mq1xSTS",
        "outputId": "caefb6c6-9392-4768-ccb6-5f275743bb04"
      },
      "execution_count": 4,
      "outputs": [
        {
          "output_type": "stream",
          "name": "stdout",
          "text": [
            "<class 'pandas.core.frame.DataFrame'>\n",
            "RangeIndex: 13320 entries, 0 to 13319\n",
            "Data columns (total 9 columns):\n",
            " #   Column        Non-Null Count  Dtype  \n",
            "---  ------        --------------  -----  \n",
            " 0   area_type     13320 non-null  object \n",
            " 1   availability  13320 non-null  object \n",
            " 2   location      13319 non-null  object \n",
            " 3   size          13304 non-null  object \n",
            " 4   society       7818 non-null   object \n",
            " 5   total_sqft    13320 non-null  object \n",
            " 6   bath          13247 non-null  float64\n",
            " 7   balcony       12711 non-null  float64\n",
            " 8   price         13320 non-null  float64\n",
            "dtypes: float64(3), object(6)\n",
            "memory usage: 936.7+ KB\n"
          ]
        }
      ]
    },
    {
      "cell_type": "code",
      "source": [
        "df.shape"
      ],
      "metadata": {
        "execution": {
          "iopub.status.busy": "2022-08-23T04:51:05.601066Z",
          "iopub.execute_input": "2022-08-23T04:51:05.602399Z",
          "iopub.status.idle": "2022-08-23T04:51:05.609793Z",
          "shell.execute_reply.started": "2022-08-23T04:51:05.602359Z",
          "shell.execute_reply": "2022-08-23T04:51:05.608349Z"
        },
        "trusted": true,
        "colab": {
          "base_uri": "https://localhost:8080/"
        },
        "id": "m8E5zzdTxSTT",
        "outputId": "6abfbe58-8a41-4a61-81bf-70f997d88062"
      },
      "execution_count": 5,
      "outputs": [
        {
          "output_type": "execute_result",
          "data": {
            "text/plain": [
              "(13320, 9)"
            ]
          },
          "metadata": {},
          "execution_count": 5
        }
      ]
    },
    {
      "cell_type": "code",
      "source": [
        "df.describe()"
      ],
      "metadata": {
        "execution": {
          "iopub.status.busy": "2022-08-23T04:51:05.611627Z",
          "iopub.execute_input": "2022-08-23T04:51:05.612358Z",
          "iopub.status.idle": "2022-08-23T04:51:05.644398Z",
          "shell.execute_reply.started": "2022-08-23T04:51:05.612316Z",
          "shell.execute_reply": "2022-08-23T04:51:05.642821Z"
        },
        "trusted": true,
        "colab": {
          "base_uri": "https://localhost:8080/",
          "height": 300
        },
        "id": "hMUmEfIUxSTT",
        "outputId": "e10ef9e6-f0aa-4512-e469-65ce889f3406"
      },
      "execution_count": 6,
      "outputs": [
        {
          "output_type": "execute_result",
          "data": {
            "text/plain": [
              "               bath       balcony         price\n",
              "count  13247.000000  12711.000000  13320.000000\n",
              "mean       2.692610      1.584376    112.565627\n",
              "std        1.341458      0.817263    148.971674\n",
              "min        1.000000      0.000000      8.000000\n",
              "25%        2.000000      1.000000     50.000000\n",
              "50%        2.000000      2.000000     72.000000\n",
              "75%        3.000000      2.000000    120.000000\n",
              "max       40.000000      3.000000   3600.000000"
            ],
            "text/html": [
              "\n",
              "  <div id=\"df-e17df8ea-d418-4555-91f0-f395218a51a8\">\n",
              "    <div class=\"colab-df-container\">\n",
              "      <div>\n",
              "<style scoped>\n",
              "    .dataframe tbody tr th:only-of-type {\n",
              "        vertical-align: middle;\n",
              "    }\n",
              "\n",
              "    .dataframe tbody tr th {\n",
              "        vertical-align: top;\n",
              "    }\n",
              "\n",
              "    .dataframe thead th {\n",
              "        text-align: right;\n",
              "    }\n",
              "</style>\n",
              "<table border=\"1\" class=\"dataframe\">\n",
              "  <thead>\n",
              "    <tr style=\"text-align: right;\">\n",
              "      <th></th>\n",
              "      <th>bath</th>\n",
              "      <th>balcony</th>\n",
              "      <th>price</th>\n",
              "    </tr>\n",
              "  </thead>\n",
              "  <tbody>\n",
              "    <tr>\n",
              "      <th>count</th>\n",
              "      <td>13247.000000</td>\n",
              "      <td>12711.000000</td>\n",
              "      <td>13320.000000</td>\n",
              "    </tr>\n",
              "    <tr>\n",
              "      <th>mean</th>\n",
              "      <td>2.692610</td>\n",
              "      <td>1.584376</td>\n",
              "      <td>112.565627</td>\n",
              "    </tr>\n",
              "    <tr>\n",
              "      <th>std</th>\n",
              "      <td>1.341458</td>\n",
              "      <td>0.817263</td>\n",
              "      <td>148.971674</td>\n",
              "    </tr>\n",
              "    <tr>\n",
              "      <th>min</th>\n",
              "      <td>1.000000</td>\n",
              "      <td>0.000000</td>\n",
              "      <td>8.000000</td>\n",
              "    </tr>\n",
              "    <tr>\n",
              "      <th>25%</th>\n",
              "      <td>2.000000</td>\n",
              "      <td>1.000000</td>\n",
              "      <td>50.000000</td>\n",
              "    </tr>\n",
              "    <tr>\n",
              "      <th>50%</th>\n",
              "      <td>2.000000</td>\n",
              "      <td>2.000000</td>\n",
              "      <td>72.000000</td>\n",
              "    </tr>\n",
              "    <tr>\n",
              "      <th>75%</th>\n",
              "      <td>3.000000</td>\n",
              "      <td>2.000000</td>\n",
              "      <td>120.000000</td>\n",
              "    </tr>\n",
              "    <tr>\n",
              "      <th>max</th>\n",
              "      <td>40.000000</td>\n",
              "      <td>3.000000</td>\n",
              "      <td>3600.000000</td>\n",
              "    </tr>\n",
              "  </tbody>\n",
              "</table>\n",
              "</div>\n",
              "      <button class=\"colab-df-convert\" onclick=\"convertToInteractive('df-e17df8ea-d418-4555-91f0-f395218a51a8')\"\n",
              "              title=\"Convert this dataframe to an interactive table.\"\n",
              "              style=\"display:none;\">\n",
              "        \n",
              "  <svg xmlns=\"http://www.w3.org/2000/svg\" height=\"24px\"viewBox=\"0 0 24 24\"\n",
              "       width=\"24px\">\n",
              "    <path d=\"M0 0h24v24H0V0z\" fill=\"none\"/>\n",
              "    <path d=\"M18.56 5.44l.94 2.06.94-2.06 2.06-.94-2.06-.94-.94-2.06-.94 2.06-2.06.94zm-11 1L8.5 8.5l.94-2.06 2.06-.94-2.06-.94L8.5 2.5l-.94 2.06-2.06.94zm10 10l.94 2.06.94-2.06 2.06-.94-2.06-.94-.94-2.06-.94 2.06-2.06.94z\"/><path d=\"M17.41 7.96l-1.37-1.37c-.4-.4-.92-.59-1.43-.59-.52 0-1.04.2-1.43.59L10.3 9.45l-7.72 7.72c-.78.78-.78 2.05 0 2.83L4 21.41c.39.39.9.59 1.41.59.51 0 1.02-.2 1.41-.59l7.78-7.78 2.81-2.81c.8-.78.8-2.07 0-2.86zM5.41 20L4 18.59l7.72-7.72 1.47 1.35L5.41 20z\"/>\n",
              "  </svg>\n",
              "      </button>\n",
              "      \n",
              "  <style>\n",
              "    .colab-df-container {\n",
              "      display:flex;\n",
              "      flex-wrap:wrap;\n",
              "      gap: 12px;\n",
              "    }\n",
              "\n",
              "    .colab-df-convert {\n",
              "      background-color: #E8F0FE;\n",
              "      border: none;\n",
              "      border-radius: 50%;\n",
              "      cursor: pointer;\n",
              "      display: none;\n",
              "      fill: #1967D2;\n",
              "      height: 32px;\n",
              "      padding: 0 0 0 0;\n",
              "      width: 32px;\n",
              "    }\n",
              "\n",
              "    .colab-df-convert:hover {\n",
              "      background-color: #E2EBFA;\n",
              "      box-shadow: 0px 1px 2px rgba(60, 64, 67, 0.3), 0px 1px 3px 1px rgba(60, 64, 67, 0.15);\n",
              "      fill: #174EA6;\n",
              "    }\n",
              "\n",
              "    [theme=dark] .colab-df-convert {\n",
              "      background-color: #3B4455;\n",
              "      fill: #D2E3FC;\n",
              "    }\n",
              "\n",
              "    [theme=dark] .colab-df-convert:hover {\n",
              "      background-color: #434B5C;\n",
              "      box-shadow: 0px 1px 3px 1px rgba(0, 0, 0, 0.15);\n",
              "      filter: drop-shadow(0px 1px 2px rgba(0, 0, 0, 0.3));\n",
              "      fill: #FFFFFF;\n",
              "    }\n",
              "  </style>\n",
              "\n",
              "      <script>\n",
              "        const buttonEl =\n",
              "          document.querySelector('#df-e17df8ea-d418-4555-91f0-f395218a51a8 button.colab-df-convert');\n",
              "        buttonEl.style.display =\n",
              "          google.colab.kernel.accessAllowed ? 'block' : 'none';\n",
              "\n",
              "        async function convertToInteractive(key) {\n",
              "          const element = document.querySelector('#df-e17df8ea-d418-4555-91f0-f395218a51a8');\n",
              "          const dataTable =\n",
              "            await google.colab.kernel.invokeFunction('convertToInteractive',\n",
              "                                                     [key], {});\n",
              "          if (!dataTable) return;\n",
              "\n",
              "          const docLinkHtml = 'Like what you see? Visit the ' +\n",
              "            '<a target=\"_blank\" href=https://colab.research.google.com/notebooks/data_table.ipynb>data table notebook</a>'\n",
              "            + ' to learn more about interactive tables.';\n",
              "          element.innerHTML = '';\n",
              "          dataTable['output_type'] = 'display_data';\n",
              "          await google.colab.output.renderOutput(dataTable, element);\n",
              "          const docLink = document.createElement('div');\n",
              "          docLink.innerHTML = docLinkHtml;\n",
              "          element.appendChild(docLink);\n",
              "        }\n",
              "      </script>\n",
              "    </div>\n",
              "  </div>\n",
              "  "
            ]
          },
          "metadata": {},
          "execution_count": 6
        }
      ]
    },
    {
      "cell_type": "markdown",
      "source": [
        "## Data Cleaning"
      ],
      "metadata": {
        "id": "1tRaLhLbxSTT"
      }
    },
    {
      "cell_type": "code",
      "source": [
        "df.isnull().sum()"
      ],
      "metadata": {
        "execution": {
          "iopub.status.busy": "2022-08-23T04:51:05.646277Z",
          "iopub.execute_input": "2022-08-23T04:51:05.646681Z",
          "iopub.status.idle": "2022-08-23T04:51:05.663849Z",
          "shell.execute_reply.started": "2022-08-23T04:51:05.646644Z",
          "shell.execute_reply": "2022-08-23T04:51:05.66234Z"
        },
        "trusted": true,
        "colab": {
          "base_uri": "https://localhost:8080/"
        },
        "id": "BesHkOBwxSTU",
        "outputId": "1923594a-d51b-4f0b-dee4-2a9494d17aab"
      },
      "execution_count": 7,
      "outputs": [
        {
          "output_type": "execute_result",
          "data": {
            "text/plain": [
              "area_type          0\n",
              "availability       0\n",
              "location           1\n",
              "size              16\n",
              "society         5502\n",
              "total_sqft         0\n",
              "bath              73\n",
              "balcony          609\n",
              "price              0\n",
              "dtype: int64"
            ]
          },
          "metadata": {},
          "execution_count": 7
        }
      ]
    },
    {
      "cell_type": "markdown",
      "source": [
        "#### Society as large number of null values. "
      ],
      "metadata": {
        "id": "DOy1kYXgxSTU"
      }
    },
    {
      "cell_type": "code",
      "source": [
        "df = df.drop([\"society\"], axis = 1)"
      ],
      "metadata": {
        "execution": {
          "iopub.status.busy": "2022-08-23T04:51:05.665741Z",
          "iopub.execute_input": "2022-08-23T04:51:05.66654Z",
          "iopub.status.idle": "2022-08-23T04:51:05.673876Z",
          "shell.execute_reply.started": "2022-08-23T04:51:05.666502Z",
          "shell.execute_reply": "2022-08-23T04:51:05.672554Z"
        },
        "trusted": true,
        "id": "dKEcAhU2xSTU"
      },
      "execution_count": 8,
      "outputs": []
    },
    {
      "cell_type": "code",
      "source": [
        "df.head()"
      ],
      "metadata": {
        "execution": {
          "iopub.status.busy": "2022-08-23T04:51:05.677895Z",
          "iopub.execute_input": "2022-08-23T04:51:05.678417Z",
          "iopub.status.idle": "2022-08-23T04:51:05.700189Z",
          "shell.execute_reply.started": "2022-08-23T04:51:05.678375Z",
          "shell.execute_reply": "2022-08-23T04:51:05.699189Z"
        },
        "trusted": true,
        "colab": {
          "base_uri": "https://localhost:8080/",
          "height": 206
        },
        "id": "8qGZcinqxSTU",
        "outputId": "d48988d6-c518-443e-be5e-99f4cca010cf"
      },
      "execution_count": 9,
      "outputs": [
        {
          "output_type": "execute_result",
          "data": {
            "text/plain": [
              "              area_type   availability                  location       size  \\\n",
              "0  Super built-up  Area         19-Dec  Electronic City Phase II      2 BHK   \n",
              "1            Plot  Area  Ready To Move          Chikka Tirupathi  4 Bedroom   \n",
              "2        Built-up  Area  Ready To Move               Uttarahalli      3 BHK   \n",
              "3  Super built-up  Area  Ready To Move        Lingadheeranahalli      3 BHK   \n",
              "4  Super built-up  Area  Ready To Move                  Kothanur      2 BHK   \n",
              "\n",
              "  total_sqft  bath  balcony   price  \n",
              "0       1056   2.0      1.0   39.07  \n",
              "1       2600   5.0      3.0  120.00  \n",
              "2       1440   2.0      3.0   62.00  \n",
              "3       1521   3.0      1.0   95.00  \n",
              "4       1200   2.0      1.0   51.00  "
            ],
            "text/html": [
              "\n",
              "  <div id=\"df-637ef339-bec7-4679-b005-21179b6b3047\">\n",
              "    <div class=\"colab-df-container\">\n",
              "      <div>\n",
              "<style scoped>\n",
              "    .dataframe tbody tr th:only-of-type {\n",
              "        vertical-align: middle;\n",
              "    }\n",
              "\n",
              "    .dataframe tbody tr th {\n",
              "        vertical-align: top;\n",
              "    }\n",
              "\n",
              "    .dataframe thead th {\n",
              "        text-align: right;\n",
              "    }\n",
              "</style>\n",
              "<table border=\"1\" class=\"dataframe\">\n",
              "  <thead>\n",
              "    <tr style=\"text-align: right;\">\n",
              "      <th></th>\n",
              "      <th>area_type</th>\n",
              "      <th>availability</th>\n",
              "      <th>location</th>\n",
              "      <th>size</th>\n",
              "      <th>total_sqft</th>\n",
              "      <th>bath</th>\n",
              "      <th>balcony</th>\n",
              "      <th>price</th>\n",
              "    </tr>\n",
              "  </thead>\n",
              "  <tbody>\n",
              "    <tr>\n",
              "      <th>0</th>\n",
              "      <td>Super built-up  Area</td>\n",
              "      <td>19-Dec</td>\n",
              "      <td>Electronic City Phase II</td>\n",
              "      <td>2 BHK</td>\n",
              "      <td>1056</td>\n",
              "      <td>2.0</td>\n",
              "      <td>1.0</td>\n",
              "      <td>39.07</td>\n",
              "    </tr>\n",
              "    <tr>\n",
              "      <th>1</th>\n",
              "      <td>Plot  Area</td>\n",
              "      <td>Ready To Move</td>\n",
              "      <td>Chikka Tirupathi</td>\n",
              "      <td>4 Bedroom</td>\n",
              "      <td>2600</td>\n",
              "      <td>5.0</td>\n",
              "      <td>3.0</td>\n",
              "      <td>120.00</td>\n",
              "    </tr>\n",
              "    <tr>\n",
              "      <th>2</th>\n",
              "      <td>Built-up  Area</td>\n",
              "      <td>Ready To Move</td>\n",
              "      <td>Uttarahalli</td>\n",
              "      <td>3 BHK</td>\n",
              "      <td>1440</td>\n",
              "      <td>2.0</td>\n",
              "      <td>3.0</td>\n",
              "      <td>62.00</td>\n",
              "    </tr>\n",
              "    <tr>\n",
              "      <th>3</th>\n",
              "      <td>Super built-up  Area</td>\n",
              "      <td>Ready To Move</td>\n",
              "      <td>Lingadheeranahalli</td>\n",
              "      <td>3 BHK</td>\n",
              "      <td>1521</td>\n",
              "      <td>3.0</td>\n",
              "      <td>1.0</td>\n",
              "      <td>95.00</td>\n",
              "    </tr>\n",
              "    <tr>\n",
              "      <th>4</th>\n",
              "      <td>Super built-up  Area</td>\n",
              "      <td>Ready To Move</td>\n",
              "      <td>Kothanur</td>\n",
              "      <td>2 BHK</td>\n",
              "      <td>1200</td>\n",
              "      <td>2.0</td>\n",
              "      <td>1.0</td>\n",
              "      <td>51.00</td>\n",
              "    </tr>\n",
              "  </tbody>\n",
              "</table>\n",
              "</div>\n",
              "      <button class=\"colab-df-convert\" onclick=\"convertToInteractive('df-637ef339-bec7-4679-b005-21179b6b3047')\"\n",
              "              title=\"Convert this dataframe to an interactive table.\"\n",
              "              style=\"display:none;\">\n",
              "        \n",
              "  <svg xmlns=\"http://www.w3.org/2000/svg\" height=\"24px\"viewBox=\"0 0 24 24\"\n",
              "       width=\"24px\">\n",
              "    <path d=\"M0 0h24v24H0V0z\" fill=\"none\"/>\n",
              "    <path d=\"M18.56 5.44l.94 2.06.94-2.06 2.06-.94-2.06-.94-.94-2.06-.94 2.06-2.06.94zm-11 1L8.5 8.5l.94-2.06 2.06-.94-2.06-.94L8.5 2.5l-.94 2.06-2.06.94zm10 10l.94 2.06.94-2.06 2.06-.94-2.06-.94-.94-2.06-.94 2.06-2.06.94z\"/><path d=\"M17.41 7.96l-1.37-1.37c-.4-.4-.92-.59-1.43-.59-.52 0-1.04.2-1.43.59L10.3 9.45l-7.72 7.72c-.78.78-.78 2.05 0 2.83L4 21.41c.39.39.9.59 1.41.59.51 0 1.02-.2 1.41-.59l7.78-7.78 2.81-2.81c.8-.78.8-2.07 0-2.86zM5.41 20L4 18.59l7.72-7.72 1.47 1.35L5.41 20z\"/>\n",
              "  </svg>\n",
              "      </button>\n",
              "      \n",
              "  <style>\n",
              "    .colab-df-container {\n",
              "      display:flex;\n",
              "      flex-wrap:wrap;\n",
              "      gap: 12px;\n",
              "    }\n",
              "\n",
              "    .colab-df-convert {\n",
              "      background-color: #E8F0FE;\n",
              "      border: none;\n",
              "      border-radius: 50%;\n",
              "      cursor: pointer;\n",
              "      display: none;\n",
              "      fill: #1967D2;\n",
              "      height: 32px;\n",
              "      padding: 0 0 0 0;\n",
              "      width: 32px;\n",
              "    }\n",
              "\n",
              "    .colab-df-convert:hover {\n",
              "      background-color: #E2EBFA;\n",
              "      box-shadow: 0px 1px 2px rgba(60, 64, 67, 0.3), 0px 1px 3px 1px rgba(60, 64, 67, 0.15);\n",
              "      fill: #174EA6;\n",
              "    }\n",
              "\n",
              "    [theme=dark] .colab-df-convert {\n",
              "      background-color: #3B4455;\n",
              "      fill: #D2E3FC;\n",
              "    }\n",
              "\n",
              "    [theme=dark] .colab-df-convert:hover {\n",
              "      background-color: #434B5C;\n",
              "      box-shadow: 0px 1px 3px 1px rgba(0, 0, 0, 0.15);\n",
              "      filter: drop-shadow(0px 1px 2px rgba(0, 0, 0, 0.3));\n",
              "      fill: #FFFFFF;\n",
              "    }\n",
              "  </style>\n",
              "\n",
              "      <script>\n",
              "        const buttonEl =\n",
              "          document.querySelector('#df-637ef339-bec7-4679-b005-21179b6b3047 button.colab-df-convert');\n",
              "        buttonEl.style.display =\n",
              "          google.colab.kernel.accessAllowed ? 'block' : 'none';\n",
              "\n",
              "        async function convertToInteractive(key) {\n",
              "          const element = document.querySelector('#df-637ef339-bec7-4679-b005-21179b6b3047');\n",
              "          const dataTable =\n",
              "            await google.colab.kernel.invokeFunction('convertToInteractive',\n",
              "                                                     [key], {});\n",
              "          if (!dataTable) return;\n",
              "\n",
              "          const docLinkHtml = 'Like what you see? Visit the ' +\n",
              "            '<a target=\"_blank\" href=https://colab.research.google.com/notebooks/data_table.ipynb>data table notebook</a>'\n",
              "            + ' to learn more about interactive tables.';\n",
              "          element.innerHTML = '';\n",
              "          dataTable['output_type'] = 'display_data';\n",
              "          await google.colab.output.renderOutput(dataTable, element);\n",
              "          const docLink = document.createElement('div');\n",
              "          docLink.innerHTML = docLinkHtml;\n",
              "          element.appendChild(docLink);\n",
              "        }\n",
              "      </script>\n",
              "    </div>\n",
              "  </div>\n",
              "  "
            ]
          },
          "metadata": {},
          "execution_count": 9
        }
      ]
    },
    {
      "cell_type": "markdown",
      "source": [
        "#### Large number of rows in balcony have null values. They can be filled with mode of balcony column."
      ],
      "metadata": {
        "id": "G2UwHRpyxSTV"
      }
    },
    {
      "cell_type": "code",
      "source": [
        "df['balcony'].fillna(df['balcony'].mode(), inplace=True)"
      ],
      "metadata": {
        "execution": {
          "iopub.status.busy": "2022-08-23T04:51:05.701807Z",
          "iopub.execute_input": "2022-08-23T04:51:05.702392Z",
          "iopub.status.idle": "2022-08-23T04:51:05.716351Z",
          "shell.execute_reply.started": "2022-08-23T04:51:05.702356Z",
          "shell.execute_reply": "2022-08-23T04:51:05.714794Z"
        },
        "trusted": true,
        "id": "NJMaQ862xSTV"
      },
      "execution_count": 10,
      "outputs": []
    },
    {
      "cell_type": "code",
      "source": [
        "df.dropna(axis = 0, inplace = True)"
      ],
      "metadata": {
        "execution": {
          "iopub.status.busy": "2022-08-23T04:51:05.717708Z",
          "iopub.execute_input": "2022-08-23T04:51:05.718863Z",
          "iopub.status.idle": "2022-08-23T04:51:05.737095Z",
          "shell.execute_reply.started": "2022-08-23T04:51:05.718823Z",
          "shell.execute_reply": "2022-08-23T04:51:05.735741Z"
        },
        "trusted": true,
        "id": "rKdZ4_KJxSTV"
      },
      "execution_count": 11,
      "outputs": []
    },
    {
      "cell_type": "code",
      "source": [
        "df.isnull().sum()"
      ],
      "metadata": {
        "execution": {
          "iopub.status.busy": "2022-08-23T04:51:05.73922Z",
          "iopub.execute_input": "2022-08-23T04:51:05.740363Z",
          "iopub.status.idle": "2022-08-23T04:51:05.755954Z",
          "shell.execute_reply.started": "2022-08-23T04:51:05.740316Z",
          "shell.execute_reply": "2022-08-23T04:51:05.754355Z"
        },
        "trusted": true,
        "colab": {
          "base_uri": "https://localhost:8080/"
        },
        "id": "Ljk0OSpTxSTV",
        "outputId": "5030532c-565e-4b04-dc04-16a9d526d716"
      },
      "execution_count": 12,
      "outputs": [
        {
          "output_type": "execute_result",
          "data": {
            "text/plain": [
              "area_type       0\n",
              "availability    0\n",
              "location        0\n",
              "size            0\n",
              "total_sqft      0\n",
              "bath            0\n",
              "balcony         0\n",
              "price           0\n",
              "dtype: int64"
            ]
          },
          "metadata": {},
          "execution_count": 12
        }
      ]
    },
    {
      "cell_type": "markdown",
      "source": [
        "## Data Manipulation"
      ],
      "metadata": {
        "id": "J6PpgKogxSTW"
      }
    },
    {
      "cell_type": "code",
      "source": [
        "df.info()"
      ],
      "metadata": {
        "execution": {
          "iopub.status.busy": "2022-08-23T04:51:05.757868Z",
          "iopub.execute_input": "2022-08-23T04:51:05.758581Z",
          "iopub.status.idle": "2022-08-23T04:51:05.776942Z",
          "shell.execute_reply.started": "2022-08-23T04:51:05.758543Z",
          "shell.execute_reply": "2022-08-23T04:51:05.775372Z"
        },
        "trusted": true,
        "colab": {
          "base_uri": "https://localhost:8080/"
        },
        "id": "KbN03yX2xSTW",
        "outputId": "c8a4deed-cd8c-48ef-e45b-84f4eb7207cf"
      },
      "execution_count": 13,
      "outputs": [
        {
          "output_type": "stream",
          "name": "stdout",
          "text": [
            "<class 'pandas.core.frame.DataFrame'>\n",
            "Int64Index: 12710 entries, 0 to 13319\n",
            "Data columns (total 8 columns):\n",
            " #   Column        Non-Null Count  Dtype  \n",
            "---  ------        --------------  -----  \n",
            " 0   area_type     12710 non-null  object \n",
            " 1   availability  12710 non-null  object \n",
            " 2   location      12710 non-null  object \n",
            " 3   size          12710 non-null  object \n",
            " 4   total_sqft    12710 non-null  object \n",
            " 5   bath          12710 non-null  float64\n",
            " 6   balcony       12710 non-null  float64\n",
            " 7   price         12710 non-null  float64\n",
            "dtypes: float64(3), object(5)\n",
            "memory usage: 893.7+ KB\n"
          ]
        }
      ]
    },
    {
      "cell_type": "code",
      "source": [
        "df.nunique()"
      ],
      "metadata": {
        "execution": {
          "iopub.status.busy": "2022-08-23T04:51:05.779047Z",
          "iopub.execute_input": "2022-08-23T04:51:05.779634Z",
          "iopub.status.idle": "2022-08-23T04:51:05.802533Z",
          "shell.execute_reply.started": "2022-08-23T04:51:05.779584Z",
          "shell.execute_reply": "2022-08-23T04:51:05.801582Z"
        },
        "trusted": true,
        "colab": {
          "base_uri": "https://localhost:8080/"
        },
        "id": "bBPe5xGnxSTW",
        "outputId": "9cf98de3-6529-4cab-8186-62dcd1336df4"
      },
      "execution_count": 14,
      "outputs": [
        {
          "output_type": "execute_result",
          "data": {
            "text/plain": [
              "area_type          4\n",
              "availability      78\n",
              "location        1265\n",
              "size              27\n",
              "total_sqft      1976\n",
              "bath              16\n",
              "balcony            4\n",
              "price           1924\n",
              "dtype: int64"
            ]
          },
          "metadata": {},
          "execution_count": 14
        }
      ]
    },
    {
      "cell_type": "code",
      "source": [
        "df[\"area_type\"].unique()"
      ],
      "metadata": {
        "execution": {
          "iopub.status.busy": "2022-08-23T04:51:05.803804Z",
          "iopub.execute_input": "2022-08-23T04:51:05.804847Z",
          "iopub.status.idle": "2022-08-23T04:51:05.814437Z",
          "shell.execute_reply.started": "2022-08-23T04:51:05.804803Z",
          "shell.execute_reply": "2022-08-23T04:51:05.813441Z"
        },
        "trusted": true,
        "colab": {
          "base_uri": "https://localhost:8080/"
        },
        "id": "cOx8wA5fxSTW",
        "outputId": "40782449-065e-4cc9-afe4-5c85544fb40d"
      },
      "execution_count": 15,
      "outputs": [
        {
          "output_type": "execute_result",
          "data": {
            "text/plain": [
              "array(['Super built-up  Area', 'Plot  Area', 'Built-up  Area',\n",
              "       'Carpet  Area'], dtype=object)"
            ]
          },
          "metadata": {},
          "execution_count": 15
        }
      ]
    },
    {
      "cell_type": "code",
      "source": [
        "df[\"availability\"].unique()"
      ],
      "metadata": {
        "execution": {
          "iopub.status.busy": "2022-08-23T04:51:05.816154Z",
          "iopub.execute_input": "2022-08-23T04:51:05.81782Z",
          "iopub.status.idle": "2022-08-23T04:51:05.826534Z",
          "shell.execute_reply.started": "2022-08-23T04:51:05.817781Z",
          "shell.execute_reply": "2022-08-23T04:51:05.825565Z"
        },
        "trusted": true,
        "colab": {
          "base_uri": "https://localhost:8080/"
        },
        "id": "AKdoUQZIxSTX",
        "outputId": "7c45a114-e9d1-4db8-b063-57499e4cb2ca"
      },
      "execution_count": 16,
      "outputs": [
        {
          "output_type": "execute_result",
          "data": {
            "text/plain": [
              "array(['19-Dec', 'Ready To Move', '18-Feb', '18-Nov', '18-May', '20-Dec',\n",
              "       '17-Oct', '21-Dec', '19-Sep', '20-Sep', '18-Mar', '18-Apr',\n",
              "       '20-Aug', '19-Mar', '17-Sep', '18-Dec', '17-Aug', '19-Apr',\n",
              "       '18-Jun', '22-Dec', '22-Jan', '18-Aug', '19-Jan', '17-Jul',\n",
              "       '18-Jul', '21-Jun', '20-May', '19-Aug', '18-Sep', '17-May',\n",
              "       '17-Jun', '18-Oct', '21-May', '18-Jan', '20-Mar', '17-Dec',\n",
              "       '16-Mar', '19-Jun', '22-Jun', '19-Jul', '21-Feb', '19-May',\n",
              "       '17-Nov', '20-Oct', '20-Jun', '19-Feb', '21-Oct', '21-Jan',\n",
              "       '17-Mar', '17-Apr', '22-May', '19-Oct', '21-Jul', '21-Nov',\n",
              "       '21-Mar', '16-Dec', '22-Mar', '20-Jan', '21-Sep', '21-Aug',\n",
              "       '14-Nov', '19-Nov', '16-Jul', '15-Jun', '20-Nov', '20-Jul',\n",
              "       '16-Sep', '20-Feb', '15-Dec', '16-Oct', '22-Nov', '15-Aug',\n",
              "       '17-Jan', '16-Nov', '20-Apr', '16-Jan', '17-Feb', '14-Jul'],\n",
              "      dtype=object)"
            ]
          },
          "metadata": {},
          "execution_count": 16
        }
      ]
    },
    {
      "cell_type": "markdown",
      "source": [
        "#### Availability doesn't seems to be an important feature. Thus, it can dropped from original DataFrame."
      ],
      "metadata": {
        "id": "bwZi8nf2xSTX"
      }
    },
    {
      "cell_type": "code",
      "source": [
        "df = df.drop([\"availability\"], axis = 1)"
      ],
      "metadata": {
        "execution": {
          "iopub.status.busy": "2022-08-23T04:51:05.82777Z",
          "iopub.execute_input": "2022-08-23T04:51:05.828634Z",
          "iopub.status.idle": "2022-08-23T04:51:05.839342Z",
          "shell.execute_reply.started": "2022-08-23T04:51:05.828542Z",
          "shell.execute_reply": "2022-08-23T04:51:05.837867Z"
        },
        "trusted": true,
        "id": "ZENAFhS5xSTX"
      },
      "execution_count": 17,
      "outputs": []
    },
    {
      "cell_type": "code",
      "source": [
        "df[\"location\"].unique()"
      ],
      "metadata": {
        "execution": {
          "iopub.status.busy": "2022-08-23T04:51:05.841416Z",
          "iopub.execute_input": "2022-08-23T04:51:05.842238Z",
          "iopub.status.idle": "2022-08-23T04:51:05.855111Z",
          "shell.execute_reply.started": "2022-08-23T04:51:05.842198Z",
          "shell.execute_reply": "2022-08-23T04:51:05.853113Z"
        },
        "trusted": true,
        "colab": {
          "base_uri": "https://localhost:8080/"
        },
        "id": "boAs5MaSxSTY",
        "outputId": "0062ca8a-c745-4d14-a829-1428c3b6ed20"
      },
      "execution_count": 18,
      "outputs": [
        {
          "output_type": "execute_result",
          "data": {
            "text/plain": [
              "array(['Electronic City Phase II', 'Chikka Tirupathi', 'Uttarahalli', ...,\n",
              "       '12th cross srinivas nagar banshankari 3rd stage',\n",
              "       'Havanur extension', 'Abshot Layout'], dtype=object)"
            ]
          },
          "metadata": {},
          "execution_count": 18
        }
      ]
    },
    {
      "cell_type": "code",
      "source": [
        "df[\"size\"].unique()"
      ],
      "metadata": {
        "execution": {
          "iopub.status.busy": "2022-08-23T04:51:05.857591Z",
          "iopub.execute_input": "2022-08-23T04:51:05.859151Z",
          "iopub.status.idle": "2022-08-23T04:51:05.872399Z",
          "shell.execute_reply.started": "2022-08-23T04:51:05.859096Z",
          "shell.execute_reply": "2022-08-23T04:51:05.870139Z"
        },
        "trusted": true,
        "colab": {
          "base_uri": "https://localhost:8080/"
        },
        "id": "UnStymEmxSTY",
        "outputId": "929bd575-57b8-4baa-d280-9b20af24aa75"
      },
      "execution_count": 19,
      "outputs": [
        {
          "output_type": "execute_result",
          "data": {
            "text/plain": [
              "array(['2 BHK', '4 Bedroom', '3 BHK', '3 Bedroom', '1 BHK', '1 RK',\n",
              "       '4 BHK', '1 Bedroom', '2 Bedroom', '6 Bedroom', '8 Bedroom',\n",
              "       '7 Bedroom', '5 BHK', '7 BHK', '6 BHK', '5 Bedroom', '11 BHK',\n",
              "       '9 BHK', '9 Bedroom', '27 BHK', '11 Bedroom', '43 Bedroom',\n",
              "       '14 BHK', '8 BHK', '12 Bedroom', '10 Bedroom', '13 BHK'],\n",
              "      dtype=object)"
            ]
          },
          "metadata": {},
          "execution_count": 19
        }
      ]
    },
    {
      "cell_type": "markdown",
      "source": [
        "#### BHK and Bedroom indicate same feature. Bedroom can be replaced with BHK."
      ],
      "metadata": {
        "id": "01P9kWPxxSTY"
      }
    },
    {
      "cell_type": "code",
      "source": [
        "df[\"size\"] = df[\"size\"].str.replace(\"Bedroom\", \"BHK\")"
      ],
      "metadata": {
        "execution": {
          "iopub.status.busy": "2022-08-23T04:51:05.874785Z",
          "iopub.execute_input": "2022-08-23T04:51:05.875426Z",
          "iopub.status.idle": "2022-08-23T04:51:05.89384Z",
          "shell.execute_reply.started": "2022-08-23T04:51:05.875365Z",
          "shell.execute_reply": "2022-08-23T04:51:05.891458Z"
        },
        "trusted": true,
        "id": "7CQH0QiVxSTY"
      },
      "execution_count": 20,
      "outputs": []
    },
    {
      "cell_type": "code",
      "source": [
        "df[\"size\"].unique()"
      ],
      "metadata": {
        "execution": {
          "iopub.status.busy": "2022-08-23T04:51:05.896433Z",
          "iopub.execute_input": "2022-08-23T04:51:05.897803Z",
          "iopub.status.idle": "2022-08-23T04:51:05.907751Z",
          "shell.execute_reply.started": "2022-08-23T04:51:05.897744Z",
          "shell.execute_reply": "2022-08-23T04:51:05.906845Z"
        },
        "trusted": true,
        "colab": {
          "base_uri": "https://localhost:8080/"
        },
        "id": "nFBNtc2XxSTZ",
        "outputId": "e48baf37-18a8-46c4-81f2-bcf66258b30b"
      },
      "execution_count": 21,
      "outputs": [
        {
          "output_type": "execute_result",
          "data": {
            "text/plain": [
              "array(['2 BHK', '4 BHK', '3 BHK', '1 BHK', '1 RK', '6 BHK', '8 BHK',\n",
              "       '7 BHK', '5 BHK', '11 BHK', '9 BHK', '27 BHK', '43 BHK', '14 BHK',\n",
              "       '12 BHK', '10 BHK', '13 BHK'], dtype=object)"
            ]
          },
          "metadata": {},
          "execution_count": 21
        }
      ]
    },
    {
      "cell_type": "code",
      "source": [
        "df[\"total_sqft\"].unique()"
      ],
      "metadata": {
        "execution": {
          "iopub.status.busy": "2022-08-23T04:51:05.908929Z",
          "iopub.execute_input": "2022-08-23T04:51:05.909974Z",
          "iopub.status.idle": "2022-08-23T04:51:05.922389Z",
          "shell.execute_reply.started": "2022-08-23T04:51:05.909936Z",
          "shell.execute_reply": "2022-08-23T04:51:05.921375Z"
        },
        "trusted": true,
        "colab": {
          "base_uri": "https://localhost:8080/"
        },
        "id": "bL5_Kk0WxSTZ",
        "outputId": "cdb1af13-bc00-48f6-aa80-da44e0cc8ac0"
      },
      "execution_count": 22,
      "outputs": [
        {
          "output_type": "execute_result",
          "data": {
            "text/plain": [
              "array(['1056', '2600', '1440', ..., '1133 - 1384', '774', '4689'],\n",
              "      dtype=object)"
            ]
          },
          "metadata": {},
          "execution_count": 22
        }
      ]
    },
    {
      "cell_type": "markdown",
      "source": [
        "#### Some data exists in form of range of square feet, which can be replaced by mean of those numbers."
      ],
      "metadata": {
        "id": "8-VsyK7GxSTZ"
      }
    },
    {
      "cell_type": "code",
      "source": [
        "df[\"total_sqft\"]= df[\"total_sqft\"].astype(str)"
      ],
      "metadata": {
        "execution": {
          "iopub.status.busy": "2022-08-23T04:51:05.924028Z",
          "iopub.execute_input": "2022-08-23T04:51:05.924632Z",
          "iopub.status.idle": "2022-08-23T04:51:05.932065Z",
          "shell.execute_reply.started": "2022-08-23T04:51:05.924594Z",
          "shell.execute_reply": "2022-08-23T04:51:05.930808Z"
        },
        "trusted": true,
        "id": "GEPuJIiWxSTZ"
      },
      "execution_count": 23,
      "outputs": []
    },
    {
      "cell_type": "code",
      "source": [
        "def sqft(x):\n",
        "    y = x.split(\"-\")\n",
        "    if len(y) == 2:\n",
        "        return (float(y[0])+float(y[1]))/2\n",
        "    elif len(y) == 1:\n",
        "        return x\n",
        "    else:\n",
        "        return None"
      ],
      "metadata": {
        "execution": {
          "iopub.status.busy": "2022-08-23T04:51:05.94333Z",
          "iopub.execute_input": "2022-08-23T04:51:05.943808Z",
          "iopub.status.idle": "2022-08-23T04:51:05.951152Z",
          "shell.execute_reply.started": "2022-08-23T04:51:05.943769Z",
          "shell.execute_reply": "2022-08-23T04:51:05.949708Z"
        },
        "trusted": true,
        "id": "8dKdoVOVxSTa"
      },
      "execution_count": 24,
      "outputs": []
    },
    {
      "cell_type": "code",
      "source": [
        "df[\"total_sqft\"] = df[\"total_sqft\"].apply(sqft)"
      ],
      "metadata": {
        "execution": {
          "iopub.status.busy": "2022-08-23T04:51:05.952998Z",
          "iopub.execute_input": "2022-08-23T04:51:05.954186Z",
          "iopub.status.idle": "2022-08-23T04:51:05.970945Z",
          "shell.execute_reply.started": "2022-08-23T04:51:05.954136Z",
          "shell.execute_reply": "2022-08-23T04:51:05.969945Z"
        },
        "trusted": true,
        "id": "QdAxjCecxSTa"
      },
      "execution_count": 25,
      "outputs": []
    },
    {
      "cell_type": "code",
      "source": [
        "df[\"total_sqft\"].unique()"
      ],
      "metadata": {
        "execution": {
          "iopub.status.busy": "2022-08-23T04:51:05.972362Z",
          "iopub.execute_input": "2022-08-23T04:51:05.973557Z",
          "iopub.status.idle": "2022-08-23T04:51:05.989776Z",
          "shell.execute_reply.started": "2022-08-23T04:51:05.973517Z",
          "shell.execute_reply": "2022-08-23T04:51:05.988174Z"
        },
        "trusted": true,
        "colab": {
          "base_uri": "https://localhost:8080/"
        },
        "id": "LlLoum4dxSTa",
        "outputId": "37a24baf-2bb6-4b28-8389-d6cc4752046b"
      },
      "execution_count": 26,
      "outputs": [
        {
          "output_type": "execute_result",
          "data": {
            "text/plain": [
              "array(['1056', '2600', '1440', ..., 1258.5, '774', '4689'], dtype=object)"
            ]
          },
          "metadata": {},
          "execution_count": 26
        }
      ]
    },
    {
      "cell_type": "code",
      "source": [
        "df.info()"
      ],
      "metadata": {
        "execution": {
          "iopub.status.busy": "2022-08-23T04:51:05.993038Z",
          "iopub.execute_input": "2022-08-23T04:51:05.99414Z",
          "iopub.status.idle": "2022-08-23T04:51:06.013195Z",
          "shell.execute_reply.started": "2022-08-23T04:51:05.994032Z",
          "shell.execute_reply": "2022-08-23T04:51:06.011249Z"
        },
        "trusted": true,
        "colab": {
          "base_uri": "https://localhost:8080/"
        },
        "id": "-o8XEh5ZxSTa",
        "outputId": "c4eefd12-dd9a-452f-ac51-1134a19b7908"
      },
      "execution_count": 27,
      "outputs": [
        {
          "output_type": "stream",
          "name": "stdout",
          "text": [
            "<class 'pandas.core.frame.DataFrame'>\n",
            "Int64Index: 12710 entries, 0 to 13319\n",
            "Data columns (total 7 columns):\n",
            " #   Column      Non-Null Count  Dtype  \n",
            "---  ------      --------------  -----  \n",
            " 0   area_type   12710 non-null  object \n",
            " 1   location    12710 non-null  object \n",
            " 2   size        12710 non-null  object \n",
            " 3   total_sqft  12710 non-null  object \n",
            " 4   bath        12710 non-null  float64\n",
            " 5   balcony     12710 non-null  float64\n",
            " 6   price       12710 non-null  float64\n",
            "dtypes: float64(3), object(4)\n",
            "memory usage: 794.4+ KB\n"
          ]
        }
      ]
    },
    {
      "cell_type": "code",
      "source": [
        "df[\"total_sqft\"]= df[\"total_sqft\"].str.replace(\"Sq. Meter\", \"\")\n",
        "df[\"total_sqft\"]= df[\"total_sqft\"].str.replace(\"Acres\", \"\")\n",
        "df[\"total_sqft\"]= df[\"total_sqft\"].str.replace(\"Sq. Yard\", \"\")\n",
        "df[\"total_sqft\"]= df[\"total_sqft\"].str.replace(\"s\", \"\")\n",
        "df[\"total_sqft\"]= df[\"total_sqft\"].str.replace(\"Cent\", \"\")\n",
        "df[\"total_sqft\"]= df[\"total_sqft\"].str.replace(\"Guntha\", \"\")\n",
        "df[\"total_sqft\"]= df[\"total_sqft\"].str.replace(\"Ground\", \"\")"
      ],
      "metadata": {
        "execution": {
          "iopub.status.busy": "2022-08-23T04:51:06.016648Z",
          "iopub.execute_input": "2022-08-23T04:51:06.017143Z",
          "iopub.status.idle": "2022-08-23T04:51:06.087242Z",
          "shell.execute_reply.started": "2022-08-23T04:51:06.017106Z",
          "shell.execute_reply": "2022-08-23T04:51:06.085995Z"
        },
        "trusted": true,
        "colab": {
          "base_uri": "https://localhost:8080/"
        },
        "id": "WaXQkNdexSTb",
        "outputId": "8baf30c5-44ca-4e5e-d399-467f1e745f73"
      },
      "execution_count": 28,
      "outputs": [
        {
          "output_type": "stream",
          "name": "stderr",
          "text": [
            "/usr/local/lib/python3.7/dist-packages/ipykernel_launcher.py:1: FutureWarning: The default value of regex will change from True to False in a future version.\n",
            "  \"\"\"Entry point for launching an IPython kernel.\n",
            "/usr/local/lib/python3.7/dist-packages/ipykernel_launcher.py:3: FutureWarning: The default value of regex will change from True to False in a future version.\n",
            "  This is separate from the ipykernel package so we can avoid doing imports until\n"
          ]
        }
      ]
    },
    {
      "cell_type": "code",
      "source": [
        "df[\"total_sqft\"]= df[\"total_sqft\"].astype(float)"
      ],
      "metadata": {
        "execution": {
          "iopub.status.busy": "2022-08-23T04:51:06.088986Z",
          "iopub.execute_input": "2022-08-23T04:51:06.089908Z",
          "iopub.status.idle": "2022-08-23T04:51:06.100213Z",
          "shell.execute_reply.started": "2022-08-23T04:51:06.089858Z",
          "shell.execute_reply": "2022-08-23T04:51:06.099037Z"
        },
        "trusted": true,
        "id": "Cb5oOSysxSTb"
      },
      "execution_count": 29,
      "outputs": []
    },
    {
      "cell_type": "code",
      "source": [
        "df[\"bath\"].unique()"
      ],
      "metadata": {
        "execution": {
          "iopub.status.busy": "2022-08-23T04:51:06.101679Z",
          "iopub.execute_input": "2022-08-23T04:51:06.102586Z",
          "iopub.status.idle": "2022-08-23T04:51:06.112093Z",
          "shell.execute_reply.started": "2022-08-23T04:51:06.102547Z",
          "shell.execute_reply": "2022-08-23T04:51:06.111131Z"
        },
        "trusted": true,
        "colab": {
          "base_uri": "https://localhost:8080/"
        },
        "id": "iPn-_fiOxSTb",
        "outputId": "4f78d36e-85db-4b9a-c300-595602b0bcd5"
      },
      "execution_count": 30,
      "outputs": [
        {
          "output_type": "execute_result",
          "data": {
            "text/plain": [
              "array([ 2.,  5.,  3.,  4.,  1.,  8.,  7.,  6.,  9., 27., 11., 12., 10.,\n",
              "       40., 15., 13.])"
            ]
          },
          "metadata": {},
          "execution_count": 30
        }
      ]
    },
    {
      "cell_type": "code",
      "source": [
        "df[\"balcony\"].unique()"
      ],
      "metadata": {
        "execution": {
          "iopub.status.busy": "2022-08-23T04:51:06.114396Z",
          "iopub.execute_input": "2022-08-23T04:51:06.116225Z",
          "iopub.status.idle": "2022-08-23T04:51:06.124912Z",
          "shell.execute_reply.started": "2022-08-23T04:51:06.116162Z",
          "shell.execute_reply": "2022-08-23T04:51:06.124012Z"
        },
        "trusted": true,
        "colab": {
          "base_uri": "https://localhost:8080/"
        },
        "id": "6pdGL9y7xSTb",
        "outputId": "fe1af26d-71d9-42c5-e57a-c560e7909e69"
      },
      "execution_count": 31,
      "outputs": [
        {
          "output_type": "execute_result",
          "data": {
            "text/plain": [
              "array([1., 3., 2., 0.])"
            ]
          },
          "metadata": {},
          "execution_count": 31
        }
      ]
    },
    {
      "cell_type": "markdown",
      "source": [
        "### Deriving new feature"
      ],
      "metadata": {
        "id": "yJUHFtKQxSTb"
      }
    },
    {
      "cell_type": "code",
      "source": [
        "df[\"price_per_sqft\"] = df[\"price\"]*100000/df[\"total_sqft\"]\n",
        "df.head()"
      ],
      "metadata": {
        "execution": {
          "iopub.status.busy": "2022-08-23T04:51:06.12627Z",
          "iopub.execute_input": "2022-08-23T04:51:06.127373Z",
          "iopub.status.idle": "2022-08-23T04:51:06.14985Z",
          "shell.execute_reply.started": "2022-08-23T04:51:06.127337Z",
          "shell.execute_reply": "2022-08-23T04:51:06.148461Z"
        },
        "trusted": true,
        "colab": {
          "base_uri": "https://localhost:8080/",
          "height": 206
        },
        "id": "G8PHmo1xxSTc",
        "outputId": "c43d1b0e-a45f-4d27-8a01-256dcfe1d99e"
      },
      "execution_count": 32,
      "outputs": [
        {
          "output_type": "execute_result",
          "data": {
            "text/plain": [
              "              area_type                  location   size  total_sqft  bath  \\\n",
              "0  Super built-up  Area  Electronic City Phase II  2 BHK      1056.0   2.0   \n",
              "1            Plot  Area          Chikka Tirupathi  4 BHK      2600.0   5.0   \n",
              "2        Built-up  Area               Uttarahalli  3 BHK      1440.0   2.0   \n",
              "3  Super built-up  Area        Lingadheeranahalli  3 BHK      1521.0   3.0   \n",
              "4  Super built-up  Area                  Kothanur  2 BHK      1200.0   2.0   \n",
              "\n",
              "   balcony   price  price_per_sqft  \n",
              "0      1.0   39.07     3699.810606  \n",
              "1      3.0  120.00     4615.384615  \n",
              "2      3.0   62.00     4305.555556  \n",
              "3      1.0   95.00     6245.890861  \n",
              "4      1.0   51.00     4250.000000  "
            ],
            "text/html": [
              "\n",
              "  <div id=\"df-16615234-41ad-4111-ada8-cf309515d7b6\">\n",
              "    <div class=\"colab-df-container\">\n",
              "      <div>\n",
              "<style scoped>\n",
              "    .dataframe tbody tr th:only-of-type {\n",
              "        vertical-align: middle;\n",
              "    }\n",
              "\n",
              "    .dataframe tbody tr th {\n",
              "        vertical-align: top;\n",
              "    }\n",
              "\n",
              "    .dataframe thead th {\n",
              "        text-align: right;\n",
              "    }\n",
              "</style>\n",
              "<table border=\"1\" class=\"dataframe\">\n",
              "  <thead>\n",
              "    <tr style=\"text-align: right;\">\n",
              "      <th></th>\n",
              "      <th>area_type</th>\n",
              "      <th>location</th>\n",
              "      <th>size</th>\n",
              "      <th>total_sqft</th>\n",
              "      <th>bath</th>\n",
              "      <th>balcony</th>\n",
              "      <th>price</th>\n",
              "      <th>price_per_sqft</th>\n",
              "    </tr>\n",
              "  </thead>\n",
              "  <tbody>\n",
              "    <tr>\n",
              "      <th>0</th>\n",
              "      <td>Super built-up  Area</td>\n",
              "      <td>Electronic City Phase II</td>\n",
              "      <td>2 BHK</td>\n",
              "      <td>1056.0</td>\n",
              "      <td>2.0</td>\n",
              "      <td>1.0</td>\n",
              "      <td>39.07</td>\n",
              "      <td>3699.810606</td>\n",
              "    </tr>\n",
              "    <tr>\n",
              "      <th>1</th>\n",
              "      <td>Plot  Area</td>\n",
              "      <td>Chikka Tirupathi</td>\n",
              "      <td>4 BHK</td>\n",
              "      <td>2600.0</td>\n",
              "      <td>5.0</td>\n",
              "      <td>3.0</td>\n",
              "      <td>120.00</td>\n",
              "      <td>4615.384615</td>\n",
              "    </tr>\n",
              "    <tr>\n",
              "      <th>2</th>\n",
              "      <td>Built-up  Area</td>\n",
              "      <td>Uttarahalli</td>\n",
              "      <td>3 BHK</td>\n",
              "      <td>1440.0</td>\n",
              "      <td>2.0</td>\n",
              "      <td>3.0</td>\n",
              "      <td>62.00</td>\n",
              "      <td>4305.555556</td>\n",
              "    </tr>\n",
              "    <tr>\n",
              "      <th>3</th>\n",
              "      <td>Super built-up  Area</td>\n",
              "      <td>Lingadheeranahalli</td>\n",
              "      <td>3 BHK</td>\n",
              "      <td>1521.0</td>\n",
              "      <td>3.0</td>\n",
              "      <td>1.0</td>\n",
              "      <td>95.00</td>\n",
              "      <td>6245.890861</td>\n",
              "    </tr>\n",
              "    <tr>\n",
              "      <th>4</th>\n",
              "      <td>Super built-up  Area</td>\n",
              "      <td>Kothanur</td>\n",
              "      <td>2 BHK</td>\n",
              "      <td>1200.0</td>\n",
              "      <td>2.0</td>\n",
              "      <td>1.0</td>\n",
              "      <td>51.00</td>\n",
              "      <td>4250.000000</td>\n",
              "    </tr>\n",
              "  </tbody>\n",
              "</table>\n",
              "</div>\n",
              "      <button class=\"colab-df-convert\" onclick=\"convertToInteractive('df-16615234-41ad-4111-ada8-cf309515d7b6')\"\n",
              "              title=\"Convert this dataframe to an interactive table.\"\n",
              "              style=\"display:none;\">\n",
              "        \n",
              "  <svg xmlns=\"http://www.w3.org/2000/svg\" height=\"24px\"viewBox=\"0 0 24 24\"\n",
              "       width=\"24px\">\n",
              "    <path d=\"M0 0h24v24H0V0z\" fill=\"none\"/>\n",
              "    <path d=\"M18.56 5.44l.94 2.06.94-2.06 2.06-.94-2.06-.94-.94-2.06-.94 2.06-2.06.94zm-11 1L8.5 8.5l.94-2.06 2.06-.94-2.06-.94L8.5 2.5l-.94 2.06-2.06.94zm10 10l.94 2.06.94-2.06 2.06-.94-2.06-.94-.94-2.06-.94 2.06-2.06.94z\"/><path d=\"M17.41 7.96l-1.37-1.37c-.4-.4-.92-.59-1.43-.59-.52 0-1.04.2-1.43.59L10.3 9.45l-7.72 7.72c-.78.78-.78 2.05 0 2.83L4 21.41c.39.39.9.59 1.41.59.51 0 1.02-.2 1.41-.59l7.78-7.78 2.81-2.81c.8-.78.8-2.07 0-2.86zM5.41 20L4 18.59l7.72-7.72 1.47 1.35L5.41 20z\"/>\n",
              "  </svg>\n",
              "      </button>\n",
              "      \n",
              "  <style>\n",
              "    .colab-df-container {\n",
              "      display:flex;\n",
              "      flex-wrap:wrap;\n",
              "      gap: 12px;\n",
              "    }\n",
              "\n",
              "    .colab-df-convert {\n",
              "      background-color: #E8F0FE;\n",
              "      border: none;\n",
              "      border-radius: 50%;\n",
              "      cursor: pointer;\n",
              "      display: none;\n",
              "      fill: #1967D2;\n",
              "      height: 32px;\n",
              "      padding: 0 0 0 0;\n",
              "      width: 32px;\n",
              "    }\n",
              "\n",
              "    .colab-df-convert:hover {\n",
              "      background-color: #E2EBFA;\n",
              "      box-shadow: 0px 1px 2px rgba(60, 64, 67, 0.3), 0px 1px 3px 1px rgba(60, 64, 67, 0.15);\n",
              "      fill: #174EA6;\n",
              "    }\n",
              "\n",
              "    [theme=dark] .colab-df-convert {\n",
              "      background-color: #3B4455;\n",
              "      fill: #D2E3FC;\n",
              "    }\n",
              "\n",
              "    [theme=dark] .colab-df-convert:hover {\n",
              "      background-color: #434B5C;\n",
              "      box-shadow: 0px 1px 3px 1px rgba(0, 0, 0, 0.15);\n",
              "      filter: drop-shadow(0px 1px 2px rgba(0, 0, 0, 0.3));\n",
              "      fill: #FFFFFF;\n",
              "    }\n",
              "  </style>\n",
              "\n",
              "      <script>\n",
              "        const buttonEl =\n",
              "          document.querySelector('#df-16615234-41ad-4111-ada8-cf309515d7b6 button.colab-df-convert');\n",
              "        buttonEl.style.display =\n",
              "          google.colab.kernel.accessAllowed ? 'block' : 'none';\n",
              "\n",
              "        async function convertToInteractive(key) {\n",
              "          const element = document.querySelector('#df-16615234-41ad-4111-ada8-cf309515d7b6');\n",
              "          const dataTable =\n",
              "            await google.colab.kernel.invokeFunction('convertToInteractive',\n",
              "                                                     [key], {});\n",
              "          if (!dataTable) return;\n",
              "\n",
              "          const docLinkHtml = 'Like what you see? Visit the ' +\n",
              "            '<a target=\"_blank\" href=https://colab.research.google.com/notebooks/data_table.ipynb>data table notebook</a>'\n",
              "            + ' to learn more about interactive tables.';\n",
              "          element.innerHTML = '';\n",
              "          dataTable['output_type'] = 'display_data';\n",
              "          await google.colab.output.renderOutput(dataTable, element);\n",
              "          const docLink = document.createElement('div');\n",
              "          docLink.innerHTML = docLinkHtml;\n",
              "          element.appendChild(docLink);\n",
              "        }\n",
              "      </script>\n",
              "    </div>\n",
              "  </div>\n",
              "  "
            ]
          },
          "metadata": {},
          "execution_count": 32
        }
      ]
    },
    {
      "cell_type": "code",
      "source": [
        "df = df.reset_index(drop=True)"
      ],
      "metadata": {
        "execution": {
          "iopub.status.busy": "2022-08-23T04:51:06.151746Z",
          "iopub.execute_input": "2022-08-23T04:51:06.152166Z",
          "iopub.status.idle": "2022-08-23T04:51:06.163061Z",
          "shell.execute_reply.started": "2022-08-23T04:51:06.152131Z",
          "shell.execute_reply": "2022-08-23T04:51:06.161957Z"
        },
        "trusted": true,
        "id": "cuiMUpJbxSTc"
      },
      "execution_count": 33,
      "outputs": []
    },
    {
      "cell_type": "markdown",
      "source": [
        "## Visualisation"
      ],
      "metadata": {
        "id": "mCGgkWFhxSTc"
      }
    },
    {
      "cell_type": "code",
      "source": [
        "df.head()"
      ],
      "metadata": {
        "execution": {
          "iopub.status.busy": "2022-08-23T04:51:06.164441Z",
          "iopub.execute_input": "2022-08-23T04:51:06.165247Z",
          "iopub.status.idle": "2022-08-23T04:51:06.187815Z",
          "shell.execute_reply.started": "2022-08-23T04:51:06.165209Z",
          "shell.execute_reply": "2022-08-23T04:51:06.186594Z"
        },
        "trusted": true,
        "colab": {
          "base_uri": "https://localhost:8080/",
          "height": 206
        },
        "id": "TU6xVVS9xSTc",
        "outputId": "a8012465-80ae-4f03-e3c6-ccbea056e9a9"
      },
      "execution_count": 34,
      "outputs": [
        {
          "output_type": "execute_result",
          "data": {
            "text/plain": [
              "              area_type                  location   size  total_sqft  bath  \\\n",
              "0  Super built-up  Area  Electronic City Phase II  2 BHK      1056.0   2.0   \n",
              "1            Plot  Area          Chikka Tirupathi  4 BHK      2600.0   5.0   \n",
              "2        Built-up  Area               Uttarahalli  3 BHK      1440.0   2.0   \n",
              "3  Super built-up  Area        Lingadheeranahalli  3 BHK      1521.0   3.0   \n",
              "4  Super built-up  Area                  Kothanur  2 BHK      1200.0   2.0   \n",
              "\n",
              "   balcony   price  price_per_sqft  \n",
              "0      1.0   39.07     3699.810606  \n",
              "1      3.0  120.00     4615.384615  \n",
              "2      3.0   62.00     4305.555556  \n",
              "3      1.0   95.00     6245.890861  \n",
              "4      1.0   51.00     4250.000000  "
            ],
            "text/html": [
              "\n",
              "  <div id=\"df-42a7f143-4312-4326-857b-76ee108916e6\">\n",
              "    <div class=\"colab-df-container\">\n",
              "      <div>\n",
              "<style scoped>\n",
              "    .dataframe tbody tr th:only-of-type {\n",
              "        vertical-align: middle;\n",
              "    }\n",
              "\n",
              "    .dataframe tbody tr th {\n",
              "        vertical-align: top;\n",
              "    }\n",
              "\n",
              "    .dataframe thead th {\n",
              "        text-align: right;\n",
              "    }\n",
              "</style>\n",
              "<table border=\"1\" class=\"dataframe\">\n",
              "  <thead>\n",
              "    <tr style=\"text-align: right;\">\n",
              "      <th></th>\n",
              "      <th>area_type</th>\n",
              "      <th>location</th>\n",
              "      <th>size</th>\n",
              "      <th>total_sqft</th>\n",
              "      <th>bath</th>\n",
              "      <th>balcony</th>\n",
              "      <th>price</th>\n",
              "      <th>price_per_sqft</th>\n",
              "    </tr>\n",
              "  </thead>\n",
              "  <tbody>\n",
              "    <tr>\n",
              "      <th>0</th>\n",
              "      <td>Super built-up  Area</td>\n",
              "      <td>Electronic City Phase II</td>\n",
              "      <td>2 BHK</td>\n",
              "      <td>1056.0</td>\n",
              "      <td>2.0</td>\n",
              "      <td>1.0</td>\n",
              "      <td>39.07</td>\n",
              "      <td>3699.810606</td>\n",
              "    </tr>\n",
              "    <tr>\n",
              "      <th>1</th>\n",
              "      <td>Plot  Area</td>\n",
              "      <td>Chikka Tirupathi</td>\n",
              "      <td>4 BHK</td>\n",
              "      <td>2600.0</td>\n",
              "      <td>5.0</td>\n",
              "      <td>3.0</td>\n",
              "      <td>120.00</td>\n",
              "      <td>4615.384615</td>\n",
              "    </tr>\n",
              "    <tr>\n",
              "      <th>2</th>\n",
              "      <td>Built-up  Area</td>\n",
              "      <td>Uttarahalli</td>\n",
              "      <td>3 BHK</td>\n",
              "      <td>1440.0</td>\n",
              "      <td>2.0</td>\n",
              "      <td>3.0</td>\n",
              "      <td>62.00</td>\n",
              "      <td>4305.555556</td>\n",
              "    </tr>\n",
              "    <tr>\n",
              "      <th>3</th>\n",
              "      <td>Super built-up  Area</td>\n",
              "      <td>Lingadheeranahalli</td>\n",
              "      <td>3 BHK</td>\n",
              "      <td>1521.0</td>\n",
              "      <td>3.0</td>\n",
              "      <td>1.0</td>\n",
              "      <td>95.00</td>\n",
              "      <td>6245.890861</td>\n",
              "    </tr>\n",
              "    <tr>\n",
              "      <th>4</th>\n",
              "      <td>Super built-up  Area</td>\n",
              "      <td>Kothanur</td>\n",
              "      <td>2 BHK</td>\n",
              "      <td>1200.0</td>\n",
              "      <td>2.0</td>\n",
              "      <td>1.0</td>\n",
              "      <td>51.00</td>\n",
              "      <td>4250.000000</td>\n",
              "    </tr>\n",
              "  </tbody>\n",
              "</table>\n",
              "</div>\n",
              "      <button class=\"colab-df-convert\" onclick=\"convertToInteractive('df-42a7f143-4312-4326-857b-76ee108916e6')\"\n",
              "              title=\"Convert this dataframe to an interactive table.\"\n",
              "              style=\"display:none;\">\n",
              "        \n",
              "  <svg xmlns=\"http://www.w3.org/2000/svg\" height=\"24px\"viewBox=\"0 0 24 24\"\n",
              "       width=\"24px\">\n",
              "    <path d=\"M0 0h24v24H0V0z\" fill=\"none\"/>\n",
              "    <path d=\"M18.56 5.44l.94 2.06.94-2.06 2.06-.94-2.06-.94-.94-2.06-.94 2.06-2.06.94zm-11 1L8.5 8.5l.94-2.06 2.06-.94-2.06-.94L8.5 2.5l-.94 2.06-2.06.94zm10 10l.94 2.06.94-2.06 2.06-.94-2.06-.94-.94-2.06-.94 2.06-2.06.94z\"/><path d=\"M17.41 7.96l-1.37-1.37c-.4-.4-.92-.59-1.43-.59-.52 0-1.04.2-1.43.59L10.3 9.45l-7.72 7.72c-.78.78-.78 2.05 0 2.83L4 21.41c.39.39.9.59 1.41.59.51 0 1.02-.2 1.41-.59l7.78-7.78 2.81-2.81c.8-.78.8-2.07 0-2.86zM5.41 20L4 18.59l7.72-7.72 1.47 1.35L5.41 20z\"/>\n",
              "  </svg>\n",
              "      </button>\n",
              "      \n",
              "  <style>\n",
              "    .colab-df-container {\n",
              "      display:flex;\n",
              "      flex-wrap:wrap;\n",
              "      gap: 12px;\n",
              "    }\n",
              "\n",
              "    .colab-df-convert {\n",
              "      background-color: #E8F0FE;\n",
              "      border: none;\n",
              "      border-radius: 50%;\n",
              "      cursor: pointer;\n",
              "      display: none;\n",
              "      fill: #1967D2;\n",
              "      height: 32px;\n",
              "      padding: 0 0 0 0;\n",
              "      width: 32px;\n",
              "    }\n",
              "\n",
              "    .colab-df-convert:hover {\n",
              "      background-color: #E2EBFA;\n",
              "      box-shadow: 0px 1px 2px rgba(60, 64, 67, 0.3), 0px 1px 3px 1px rgba(60, 64, 67, 0.15);\n",
              "      fill: #174EA6;\n",
              "    }\n",
              "\n",
              "    [theme=dark] .colab-df-convert {\n",
              "      background-color: #3B4455;\n",
              "      fill: #D2E3FC;\n",
              "    }\n",
              "\n",
              "    [theme=dark] .colab-df-convert:hover {\n",
              "      background-color: #434B5C;\n",
              "      box-shadow: 0px 1px 3px 1px rgba(0, 0, 0, 0.15);\n",
              "      filter: drop-shadow(0px 1px 2px rgba(0, 0, 0, 0.3));\n",
              "      fill: #FFFFFF;\n",
              "    }\n",
              "  </style>\n",
              "\n",
              "      <script>\n",
              "        const buttonEl =\n",
              "          document.querySelector('#df-42a7f143-4312-4326-857b-76ee108916e6 button.colab-df-convert');\n",
              "        buttonEl.style.display =\n",
              "          google.colab.kernel.accessAllowed ? 'block' : 'none';\n",
              "\n",
              "        async function convertToInteractive(key) {\n",
              "          const element = document.querySelector('#df-42a7f143-4312-4326-857b-76ee108916e6');\n",
              "          const dataTable =\n",
              "            await google.colab.kernel.invokeFunction('convertToInteractive',\n",
              "                                                     [key], {});\n",
              "          if (!dataTable) return;\n",
              "\n",
              "          const docLinkHtml = 'Like what you see? Visit the ' +\n",
              "            '<a target=\"_blank\" href=https://colab.research.google.com/notebooks/data_table.ipynb>data table notebook</a>'\n",
              "            + ' to learn more about interactive tables.';\n",
              "          element.innerHTML = '';\n",
              "          dataTable['output_type'] = 'display_data';\n",
              "          await google.colab.output.renderOutput(dataTable, element);\n",
              "          const docLink = document.createElement('div');\n",
              "          docLink.innerHTML = docLinkHtml;\n",
              "          element.appendChild(docLink);\n",
              "        }\n",
              "      </script>\n",
              "    </div>\n",
              "  </div>\n",
              "  "
            ]
          },
          "metadata": {},
          "execution_count": 34
        }
      ]
    },
    {
      "cell_type": "code",
      "source": [
        "sns.histplot(df.area_type, color = \"green\")\n",
        "plt.show()"
      ],
      "metadata": {
        "execution": {
          "iopub.status.busy": "2022-08-23T04:51:06.18985Z",
          "iopub.execute_input": "2022-08-23T04:51:06.19017Z",
          "iopub.status.idle": "2022-08-23T04:51:06.363718Z",
          "shell.execute_reply.started": "2022-08-23T04:51:06.190142Z",
          "shell.execute_reply": "2022-08-23T04:51:06.362491Z"
        },
        "trusted": true,
        "colab": {
          "base_uri": "https://localhost:8080/",
          "height": 280
        },
        "id": "wAd_kr9nxSTc",
        "outputId": "0d836b69-afa6-4d6d-bcc0-c1ddc9b05bf4"
      },
      "execution_count": 35,
      "outputs": [
        {
          "output_type": "display_data",
          "data": {
            "text/plain": [
              "<Figure size 432x288 with 1 Axes>"
            ],
            "image/png": "[encoded data removed]"
          },
          "metadata": {
            "needs_background": "light"
          }
        }
      ]
    },
    {
      "cell_type": "code",
      "source": [
        "for col in [\"total_sqft\", \"bath\", \"balcony\", \"price_per_sqft\"]:\n",
        "    plt.figure(figsize=(9,6));\n",
        "    sns.boxenplot(y=col,data=df,palette='summer');\n",
        "    plt.title(f'Outliers in {col}',fontsize=25,fontweight=5);\n",
        "    plt.show()"
      ],
      "metadata": {
        "execution": {
          "iopub.status.busy": "2022-08-23T04:51:06.365532Z",
          "iopub.execute_input": "2022-08-23T04:51:06.365984Z",
          "iopub.status.idle": "2022-08-23T04:51:06.864797Z",
          "shell.execute_reply.started": "2022-08-23T04:51:06.36594Z",
          "shell.execute_reply": "2022-08-23T04:51:06.863868Z"
        },
        "trusted": true,
        "colab": {
          "base_uri": "https://localhost:8080/",
          "height": 1000
        },
        "id": "CCuTIsWPxSTd",
        "outputId": "258ae5d2-ee9d-4a39-936e-6ad7f288184d"
      },
      "execution_count": 36,
      "outputs": [
        {
          "output_type": "display_data",
          "data": {
            "text/plain": [
              "<Figure size 648x432 with 1 Axes>"
            ],
            "image/png": "[encoded data removed]"
          },
          "metadata": {
            "needs_background": "light"
          }
        },
        {
          "output_type": "display_data",
          "data": {
            "text/plain": [
              "<Figure size 648x432 with 1 Axes>"
            ],
            "image/png": "[encoded data removed]"
          },
          "metadata": {
            "needs_background": "light"
          }
        },
        {
          "output_type": "display_data",
          "data": {
            "text/plain": [
              "<Figure size 648x432 with 1 Axes>"
            ],
            "image/png": "[encoded data removed]"
          },
          "metadata": {
            "needs_background": "light"
          }
        },
        {
          "output_type": "display_data",
          "data": {
            "text/plain": [
              "<Figure size 648x432 with 1 Axes>"
            ],
            "image/png": "[encoded data removed]"
          },
          "metadata": {
            "needs_background": "light"
          }
        }
      ]
    },
    {
      "cell_type": "markdown",
      "source": [
        "#### As we can see there are outliers present in total_sqft, bath and price_per_sqft which must be removed."
      ],
      "metadata": {
        "id": "ktYk8sgnxSTd"
      }
    },
    {
      "cell_type": "code",
      "source": [
        "print(np.where((df[\"total_sqft\"]<100) | (df['total_sqft']>5000)))"
      ],
      "metadata": {
        "execution": {
          "iopub.status.busy": "2022-08-23T04:51:06.866559Z",
          "iopub.execute_input": "2022-08-23T04:51:06.867314Z",
          "iopub.status.idle": "2022-08-23T04:51:06.876544Z",
          "shell.execute_reply.started": "2022-08-23T04:51:06.867245Z",
          "shell.execute_reply": "2022-08-23T04:51:06.87516Z"
        },
        "trusted": true,
        "colab": {
          "base_uri": "https://localhost:8080/"
        },
        "id": "zNn3DfFzxSTd",
        "outputId": "498109cd-4d0a-4ce7-f19e-3468e97c2e3e"
      },
      "execution_count": 37,
      "outputs": [
        {
          "output_type": "stream",
          "name": "stdout",
          "text": [
            "(array([   55,   333,   390,   392,   419,   492,   501,   577,   641,\n",
            "         706,   771,   967,   968,  1030,  1062,  1093,  1173,  1634,\n",
            "        1794,  1921,  2002,  2489,  2682,  2740,  2880,  2984,  2995,\n",
            "        3008,  3023,  4021,  4084,  4555,  4714,  4723,  5121,  5179,\n",
            "        5194,  5382,  5671,  5677,  5990,  6018,  6022,  6223,  6499,\n",
            "        6681,  6736,  6758,  6805,  6884,  6954,  6973,  7231,  7344,\n",
            "        7379,  7439,  7469,  7507,  7761,  7783,  7829,  8119,  8209,\n",
            "        8245,  8302,  8513,  8730,  8782,  8786,  8890,  8963,  8978,\n",
            "        9132,  9264,  9331,  9396,  9410,  9456,  9585,  9593,  9816,\n",
            "        9936,  9993,  9996, 10240, 10558, 10617, 10788, 10903, 11015,\n",
            "       11032, 11068, 11214, 11306, 11358, 11437, 11673, 11695, 11791,\n",
            "       11804, 11903, 11998, 12111, 12396, 12498, 12522, 12600, 12624]),)\n"
          ]
        }
      ]
    },
    {
      "cell_type": "markdown",
      "source": [
        "#### House with size less than 100 and more than 5000 square feet is impractical. Thus, such outliers will be removed."
      ],
      "metadata": {
        "id": "ZknBSZllxSTd"
      }
    },
    {
      "cell_type": "code",
      "source": [
        "df = df[(df[\"total_sqft\"] >= 100) | (df[\"total_sqft\"] <= 5000)]"
      ],
      "metadata": {
        "execution": {
          "iopub.status.busy": "2022-08-23T04:51:06.878765Z",
          "iopub.execute_input": "2022-08-23T04:51:06.879563Z",
          "iopub.status.idle": "2022-08-23T04:51:06.889464Z",
          "shell.execute_reply.started": "2022-08-23T04:51:06.879514Z",
          "shell.execute_reply": "2022-08-23T04:51:06.888357Z"
        },
        "trusted": true,
        "id": "_cZAYGGJxSTd"
      },
      "execution_count": 38,
      "outputs": []
    },
    {
      "cell_type": "markdown",
      "source": [
        "#### Houses with more than 10 bathrooms are acting as outliers."
      ],
      "metadata": {
        "id": "IX4TiId2xSTe"
      }
    },
    {
      "cell_type": "code",
      "source": [
        "print(np.where(df[\"bath\"]<10))"
      ],
      "metadata": {
        "execution": {
          "iopub.status.busy": "2022-08-23T04:51:06.891337Z",
          "iopub.execute_input": "2022-08-23T04:51:06.892067Z",
          "iopub.status.idle": "2022-08-23T04:51:06.900667Z",
          "shell.execute_reply.started": "2022-08-23T04:51:06.89201Z",
          "shell.execute_reply": "2022-08-23T04:51:06.899371Z"
        },
        "trusted": true,
        "colab": {
          "base_uri": "https://localhost:8080/"
        },
        "id": "vkkizT-vxSTe",
        "outputId": "5cf7c07c-6b7d-4006-9660-c2e6e2bfd206"
      },
      "execution_count": 39,
      "outputs": [
        {
          "output_type": "stream",
          "name": "stdout",
          "text": [
            "(array([    0,     1,     2, ..., 12563, 12564, 12565]),)\n"
          ]
        }
      ]
    },
    {
      "cell_type": "code",
      "source": [
        "df = df[(df[\"bath\"] <= 10)]"
      ],
      "metadata": {
        "execution": {
          "iopub.status.busy": "2022-08-23T04:51:06.902261Z",
          "iopub.execute_input": "2022-08-23T04:51:06.903679Z",
          "iopub.status.idle": "2022-08-23T04:51:06.913916Z",
          "shell.execute_reply.started": "2022-08-23T04:51:06.903626Z",
          "shell.execute_reply": "2022-08-23T04:51:06.912717Z"
        },
        "trusted": true,
        "id": "YE6X59DuxSTe"
      },
      "execution_count": 40,
      "outputs": []
    },
    {
      "cell_type": "code",
      "source": [
        "print(np.where((df[\"price_per_sqft\"]<1000) | (df['price_per_sqft']>50000)))"
      ],
      "metadata": {
        "execution": {
          "iopub.status.busy": "2022-08-23T04:51:06.915549Z",
          "iopub.execute_input": "2022-08-23T04:51:06.916471Z",
          "iopub.status.idle": "2022-08-23T04:51:06.927174Z",
          "shell.execute_reply.started": "2022-08-23T04:51:06.916422Z",
          "shell.execute_reply": "2022-08-23T04:51:06.925795Z"
        },
        "trusted": true,
        "colab": {
          "base_uri": "https://localhost:8080/"
        },
        "id": "K6IVFZMIxSTe",
        "outputId": "6604a0ea-108b-4c35-a0b1-d5b15140d7ea"
      },
      "execution_count": 41,
      "outputs": [
        {
          "output_type": "stream",
          "name": "stdout",
          "text": [
            "(array([  328,   387,   633,   762,   953,   954,  1016,  1048,  1633,\n",
            "        1769,  3082,  4668,  5062,  5120,  5199,  5287,  5320,  5359,\n",
            "        5604,  5610,  5918,  5946,  6029,  6148,  6528,  6660,  6802,\n",
            "        6890,  7147,  7195,  7258,  7407,  7769,  8682,  8857,  9876,\n",
            "       10662, 10884, 10936, 11067, 11556, 11761, 11846]),)\n"
          ]
        }
      ]
    },
    {
      "cell_type": "markdown",
      "source": [
        "#### Houses with price more than 50,000 per square feet are acting as outliers."
      ],
      "metadata": {
        "id": "KlKMV_7pxSTe"
      }
    },
    {
      "cell_type": "code",
      "source": [
        "df = df[(df[\"price_per_sqft\"]>=1000) | (df['price_per_sqft']<=50000)]"
      ],
      "metadata": {
        "execution": {
          "iopub.status.busy": "2022-08-23T04:51:06.928979Z",
          "iopub.execute_input": "2022-08-23T04:51:06.929582Z",
          "iopub.status.idle": "2022-08-23T04:51:06.938209Z",
          "shell.execute_reply.started": "2022-08-23T04:51:06.929546Z",
          "shell.execute_reply": "2022-08-23T04:51:06.937066Z"
        },
        "trusted": true,
        "id": "1GTe3qkxxSTf"
      },
      "execution_count": 42,
      "outputs": []
    },
    {
      "cell_type": "code",
      "source": [
        "df.info()"
      ],
      "metadata": {
        "execution": {
          "iopub.status.busy": "2022-08-23T04:51:06.940227Z",
          "iopub.execute_input": "2022-08-23T04:51:06.940831Z",
          "iopub.status.idle": "2022-08-23T04:51:06.959815Z",
          "shell.execute_reply.started": "2022-08-23T04:51:06.940794Z",
          "shell.execute_reply": "2022-08-23T04:51:06.958448Z"
        },
        "trusted": true,
        "colab": {
          "base_uri": "https://localhost:8080/"
        },
        "id": "b9Yn-NnkxSTf",
        "outputId": "7590938c-df92-4f4c-a677-a631253b302c"
      },
      "execution_count": 43,
      "outputs": [
        {
          "output_type": "stream",
          "name": "stdout",
          "text": [
            "<class 'pandas.core.frame.DataFrame'>\n",
            "Int64Index: 12560 entries, 0 to 12709\n",
            "Data columns (total 8 columns):\n",
            " #   Column          Non-Null Count  Dtype  \n",
            "---  ------          --------------  -----  \n",
            " 0   area_type       12560 non-null  object \n",
            " 1   location        12560 non-null  object \n",
            " 2   size            12560 non-null  object \n",
            " 3   total_sqft      12560 non-null  float64\n",
            " 4   bath            12560 non-null  float64\n",
            " 5   balcony         12560 non-null  float64\n",
            " 6   price           12560 non-null  float64\n",
            " 7   price_per_sqft  12560 non-null  float64\n",
            "dtypes: float64(5), object(3)\n",
            "memory usage: 883.1+ KB\n"
          ]
        }
      ]
    },
    {
      "cell_type": "markdown",
      "source": [
        "## Label Encoding"
      ],
      "metadata": {
        "id": "6xcLfdPxxSTf"
      }
    },
    {
      "cell_type": "code",
      "source": [
        "from sklearn.preprocessing import LabelEncoder"
      ],
      "metadata": {
        "execution": {
          "iopub.status.busy": "2022-08-23T04:51:06.961372Z",
          "iopub.execute_input": "2022-08-23T04:51:06.961934Z",
          "iopub.status.idle": "2022-08-23T04:51:06.966974Z",
          "shell.execute_reply.started": "2022-08-23T04:51:06.961898Z",
          "shell.execute_reply": "2022-08-23T04:51:06.966049Z"
        },
        "trusted": true,
        "id": "6gtQHtDOxSTf"
      },
      "execution_count": 44,
      "outputs": []
    },
    {
      "cell_type": "code",
      "source": [
        "encoder = LabelEncoder()\n",
        "df['area_type'] = encoder.fit_transform(df['area_type'])\n",
        "df['location'] = encoder.fit_transform(df['location'])\n",
        "df['size'] = encoder.fit_transform(df['size'])"
      ],
      "metadata": {
        "execution": {
          "iopub.status.busy": "2022-08-23T04:51:06.968437Z",
          "iopub.execute_input": "2022-08-23T04:51:06.968994Z",
          "iopub.status.idle": "2022-08-23T04:51:06.993034Z",
          "shell.execute_reply.started": "2022-08-23T04:51:06.968961Z",
          "shell.execute_reply": "2022-08-23T04:51:06.992081Z"
        },
        "trusted": true,
        "id": "gX8Xm14UxSTf"
      },
      "execution_count": 45,
      "outputs": []
    },
    {
      "cell_type": "code",
      "source": [
        "df.head()"
      ],
      "metadata": {
        "execution": {
          "iopub.status.busy": "2022-08-23T04:51:06.994351Z",
          "iopub.execute_input": "2022-08-23T04:51:06.994864Z",
          "iopub.status.idle": "2022-08-23T04:51:07.012719Z",
          "shell.execute_reply.started": "2022-08-23T04:51:06.994831Z",
          "shell.execute_reply": "2022-08-23T04:51:07.011695Z"
        },
        "trusted": true,
        "colab": {
          "base_uri": "https://localhost:8080/",
          "height": 206
        },
        "id": "IotpPloyxSTg",
        "outputId": "61c2de22-a666-49cb-8259-95f70644a96d"
      },
      "execution_count": 46,
      "outputs": [
        {
          "output_type": "execute_result",
          "data": {
            "text/plain": [
              "   area_type  location  size  total_sqft  bath  balcony   price  \\\n",
              "0          3       403     5      1056.0   2.0      1.0   39.07   \n",
              "1          2       302     7      2600.0   5.0      3.0  120.00   \n",
              "2          0      1137     6      1440.0   2.0      3.0   62.00   \n",
              "3          3       734     6      1521.0   3.0      1.0   95.00   \n",
              "4          3       693     5      1200.0   2.0      1.0   51.00   \n",
              "\n",
              "   price_per_sqft  \n",
              "0     3699.810606  \n",
              "1     4615.384615  \n",
              "2     4305.555556  \n",
              "3     6245.890861  \n",
              "4     4250.000000  "
            ],
            "text/html": [
              "\n",
              "  <div id=\"df-9130b8ab-7dd9-487d-b9d6-13859af4886e\">\n",
              "    <div class=\"colab-df-container\">\n",
              "      <div>\n",
              "<style scoped>\n",
              "    .dataframe tbody tr th:only-of-type {\n",
              "        vertical-align: middle;\n",
              "    }\n",
              "\n",
              "    .dataframe tbody tr th {\n",
              "        vertical-align: top;\n",
              "    }\n",
              "\n",
              "    .dataframe thead th {\n",
              "        text-align: right;\n",
              "    }\n",
              "</style>\n",
              "<table border=\"1\" class=\"dataframe\">\n",
              "  <thead>\n",
              "    <tr style=\"text-align: right;\">\n",
              "      <th></th>\n",
              "      <th>area_type</th>\n",
              "      <th>location</th>\n",
              "      <th>size</th>\n",
              "      <th>total_sqft</th>\n",
              "      <th>bath</th>\n",
              "      <th>balcony</th>\n",
              "      <th>price</th>\n",
              "      <th>price_per_sqft</th>\n",
              "    </tr>\n",
              "  </thead>\n",
              "  <tbody>\n",
              "    <tr>\n",
              "      <th>0</th>\n",
              "      <td>3</td>\n",
              "      <td>403</td>\n",
              "      <td>5</td>\n",
              "      <td>1056.0</td>\n",
              "      <td>2.0</td>\n",
              "      <td>1.0</td>\n",
              "      <td>39.07</td>\n",
              "      <td>3699.810606</td>\n",
              "    </tr>\n",
              "    <tr>\n",
              "      <th>1</th>\n",
              "      <td>2</td>\n",
              "      <td>302</td>\n",
              "      <td>7</td>\n",
              "      <td>2600.0</td>\n",
              "      <td>5.0</td>\n",
              "      <td>3.0</td>\n",
              "      <td>120.00</td>\n",
              "      <td>4615.384615</td>\n",
              "    </tr>\n",
              "    <tr>\n",
              "      <th>2</th>\n",
              "      <td>0</td>\n",
              "      <td>1137</td>\n",
              "      <td>6</td>\n",
              "      <td>1440.0</td>\n",
              "      <td>2.0</td>\n",
              "      <td>3.0</td>\n",
              "      <td>62.00</td>\n",
              "      <td>4305.555556</td>\n",
              "    </tr>\n",
              "    <tr>\n",
              "      <th>3</th>\n",
              "      <td>3</td>\n",
              "      <td>734</td>\n",
              "      <td>6</td>\n",
              "      <td>1521.0</td>\n",
              "      <td>3.0</td>\n",
              "      <td>1.0</td>\n",
              "      <td>95.00</td>\n",
              "      <td>6245.890861</td>\n",
              "    </tr>\n",
              "    <tr>\n",
              "      <th>4</th>\n",
              "      <td>3</td>\n",
              "      <td>693</td>\n",
              "      <td>5</td>\n",
              "      <td>1200.0</td>\n",
              "      <td>2.0</td>\n",
              "      <td>1.0</td>\n",
              "      <td>51.00</td>\n",
              "      <td>4250.000000</td>\n",
              "    </tr>\n",
              "  </tbody>\n",
              "</table>\n",
              "</div>\n",
              "      <button class=\"colab-df-convert\" onclick=\"convertToInteractive('df-9130b8ab-7dd9-487d-b9d6-13859af4886e')\"\n",
              "              title=\"Convert this dataframe to an interactive table.\"\n",
              "              style=\"display:none;\">\n",
              "        \n",
              "  <svg xmlns=\"http://www.w3.org/2000/svg\" height=\"24px\"viewBox=\"0 0 24 24\"\n",
              "       width=\"24px\">\n",
              "    <path d=\"M0 0h24v24H0V0z\" fill=\"none\"/>\n",
              "    <path d=\"M18.56 5.44l.94 2.06.94-2.06 2.06-.94-2.06-.94-.94-2.06-.94 2.06-2.06.94zm-11 1L8.5 8.5l.94-2.06 2.06-.94-2.06-.94L8.5 2.5l-.94 2.06-2.06.94zm10 10l.94 2.06.94-2.06 2.06-.94-2.06-.94-.94-2.06-.94 2.06-2.06.94z\"/><path d=\"M17.41 7.96l-1.37-1.37c-.4-.4-.92-.59-1.43-.59-.52 0-1.04.2-1.43.59L10.3 9.45l-7.72 7.72c-.78.78-.78 2.05 0 2.83L4 21.41c.39.39.9.59 1.41.59.51 0 1.02-.2 1.41-.59l7.78-7.78 2.81-2.81c.8-.78.8-2.07 0-2.86zM5.41 20L4 18.59l7.72-7.72 1.47 1.35L5.41 20z\"/>\n",
              "  </svg>\n",
              "      </button>\n",
              "      \n",
              "  <style>\n",
              "    .colab-df-container {\n",
              "      display:flex;\n",
              "      flex-wrap:wrap;\n",
              "      gap: 12px;\n",
              "    }\n",
              "\n",
              "    .colab-df-convert {\n",
              "      background-color: #E8F0FE;\n",
              "      border: none;\n",
              "      border-radius: 50%;\n",
              "      cursor: pointer;\n",
              "      display: none;\n",
              "      fill: #1967D2;\n",
              "      height: 32px;\n",
              "      padding: 0 0 0 0;\n",
              "      width: 32px;\n",
              "    }\n",
              "\n",
              "    .colab-df-convert:hover {\n",
              "      background-color: #E2EBFA;\n",
              "      box-shadow: 0px 1px 2px rgba(60, 64, 67, 0.3), 0px 1px 3px 1px rgba(60, 64, 67, 0.15);\n",
              "      fill: #174EA6;\n",
              "    }\n",
              "\n",
              "    [theme=dark] .colab-df-convert {\n",
              "      background-color: #3B4455;\n",
              "      fill: #D2E3FC;\n",
              "    }\n",
              "\n",
              "    [theme=dark] .colab-df-convert:hover {\n",
              "      background-color: #434B5C;\n",
              "      box-shadow: 0px 1px 3px 1px rgba(0, 0, 0, 0.15);\n",
              "      filter: drop-shadow(0px 1px 2px rgba(0, 0, 0, 0.3));\n",
              "      fill: #FFFFFF;\n",
              "    }\n",
              "  </style>\n",
              "\n",
              "      <script>\n",
              "        const buttonEl =\n",
              "          document.querySelector('#df-9130b8ab-7dd9-487d-b9d6-13859af4886e button.colab-df-convert');\n",
              "        buttonEl.style.display =\n",
              "          google.colab.kernel.accessAllowed ? 'block' : 'none';\n",
              "\n",
              "        async function convertToInteractive(key) {\n",
              "          const element = document.querySelector('#df-9130b8ab-7dd9-487d-b9d6-13859af4886e');\n",
              "          const dataTable =\n",
              "            await google.colab.kernel.invokeFunction('convertToInteractive',\n",
              "                                                     [key], {});\n",
              "          if (!dataTable) return;\n",
              "\n",
              "          const docLinkHtml = 'Like what you see? Visit the ' +\n",
              "            '<a target=\"_blank\" href=https://colab.research.google.com/notebooks/data_table.ipynb>data table notebook</a>'\n",
              "            + ' to learn more about interactive tables.';\n",
              "          element.innerHTML = '';\n",
              "          dataTable['output_type'] = 'display_data';\n",
              "          await google.colab.output.renderOutput(dataTable, element);\n",
              "          const docLink = document.createElement('div');\n",
              "          docLink.innerHTML = docLinkHtml;\n",
              "          element.appendChild(docLink);\n",
              "        }\n",
              "      </script>\n",
              "    </div>\n",
              "  </div>\n",
              "  "
            ]
          },
          "metadata": {},
          "execution_count": 46
        }
      ]
    },
    {
      "cell_type": "markdown",
      "source": [
        "### Corelation of Price with different features"
      ],
      "metadata": {
        "id": "IPyqDZXpxSTg"
      }
    },
    {
      "cell_type": "code",
      "source": [
        "plt.figure(figsize = (12,9))\n",
        "sns.heatmap(df.corr(), annot = True, cmap = \"magma_r\")\n",
        "plt.title(\"Correlation Heatmap\",fontdict = {\"fontweight\":\"bold\"})\n",
        "plt.show()"
      ],
      "metadata": {
        "execution": {
          "iopub.status.busy": "2022-08-23T04:51:07.014229Z",
          "iopub.execute_input": "2022-08-23T04:51:07.014601Z",
          "iopub.status.idle": "2022-08-23T04:51:07.525711Z",
          "shell.execute_reply.started": "2022-08-23T04:51:07.01457Z",
          "shell.execute_reply": "2022-08-23T04:51:07.523406Z"
        },
        "trusted": true,
        "colab": {
          "base_uri": "https://localhost:8080/",
          "height": 554
        },
        "id": "tp_X8ybUxSTg",
        "outputId": "c070a61f-57c7-46f1-c41b-22c6dfa1ef89"
      },
      "execution_count": 47,
      "outputs": [
        {
          "output_type": "display_data",
          "data": {
            "text/plain": [
              "<Figure size 864x648 with 2 Axes>"
            ],
            "image/png": "[encoded data removed]"
          },
          "metadata": {
            "needs_background": "light"
          }
        }
      ]
    },
    {
      "cell_type": "markdown",
      "source": [
        "#### area_type and location has very little correlation with price. So, these features can be removed."
      ],
      "metadata": {
        "id": "yGrjPkncxSTg"
      }
    },
    {
      "cell_type": "code",
      "source": [
        "x = df.drop([\"price\", \"area_type\", \"location\"], axis = 1)"
      ],
      "metadata": {
        "execution": {
          "iopub.status.busy": "2022-08-23T04:51:07.527789Z",
          "iopub.execute_input": "2022-08-23T04:51:07.528958Z",
          "iopub.status.idle": "2022-08-23T04:51:07.537901Z",
          "shell.execute_reply.started": "2022-08-23T04:51:07.528908Z",
          "shell.execute_reply": "2022-08-23T04:51:07.53656Z"
        },
        "trusted": true,
        "id": "ateEZQkFxSTg"
      },
      "execution_count": 48,
      "outputs": []
    },
    {
      "cell_type": "code",
      "source": [
        "y = df[\"price\"]"
      ],
      "metadata": {
        "execution": {
          "iopub.status.busy": "2022-08-23T04:51:07.539553Z",
          "iopub.execute_input": "2022-08-23T04:51:07.540321Z",
          "iopub.status.idle": "2022-08-23T04:51:07.550925Z",
          "shell.execute_reply.started": "2022-08-23T04:51:07.540257Z",
          "shell.execute_reply": "2022-08-23T04:51:07.549767Z"
        },
        "trusted": true,
        "id": "t6BZrjAXxSTh"
      },
      "execution_count": 49,
      "outputs": []
    },
    {
      "cell_type": "code",
      "source": [
        "x = x.values\n",
        "y = y.values"
      ],
      "metadata": {
        "execution": {
          "iopub.status.busy": "2022-08-23T04:51:07.552914Z",
          "iopub.execute_input": "2022-08-23T04:51:07.553733Z",
          "iopub.status.idle": "2022-08-23T04:51:07.564142Z",
          "shell.execute_reply.started": "2022-08-23T04:51:07.553686Z",
          "shell.execute_reply": "2022-08-23T04:51:07.56181Z"
        },
        "trusted": true,
        "id": "v4VPqePDxSTh"
      },
      "execution_count": 50,
      "outputs": []
    },
    {
      "cell_type": "markdown",
      "source": [
        "## Test Train Split"
      ],
      "metadata": {
        "id": "E0MJqFLDxSTh"
      }
    },
    {
      "cell_type": "code",
      "source": [
        "from sklearn.model_selection import train_test_split"
      ],
      "metadata": {
        "execution": {
          "iopub.status.busy": "2022-08-23T04:51:07.566584Z",
          "iopub.execute_input": "2022-08-23T04:51:07.567618Z",
          "iopub.status.idle": "2022-08-23T04:51:07.576265Z",
          "shell.execute_reply.started": "2022-08-23T04:51:07.567484Z",
          "shell.execute_reply": "2022-08-23T04:51:07.575204Z"
        },
        "trusted": true,
        "id": "ssCh4JEoxSTh"
      },
      "execution_count": 51,
      "outputs": []
    },
    {
      "cell_type": "code",
      "source": [
        "x_train, x_test, y_train, y_test = train_test_split(x,y, test_size = 0.2)"
      ],
      "metadata": {
        "execution": {
          "iopub.status.busy": "2022-08-23T04:51:07.577715Z",
          "iopub.execute_input": "2022-08-23T04:51:07.578474Z",
          "iopub.status.idle": "2022-08-23T04:51:07.587979Z",
          "shell.execute_reply.started": "2022-08-23T04:51:07.578428Z",
          "shell.execute_reply": "2022-08-23T04:51:07.586692Z"
        },
        "trusted": true,
        "id": "WbvMh2K9xSTh"
      },
      "execution_count": 52,
      "outputs": []
    },
    {
      "cell_type": "markdown",
      "source": [
        "## Applying Linear Model Regression"
      ],
      "metadata": {
        "id": "C6J3JC7ZxSTh"
      }
    },
    {
      "cell_type": "code",
      "source": [
        "from sklearn import linear_model"
      ],
      "metadata": {
        "execution": {
          "iopub.status.busy": "2022-08-23T04:51:07.589865Z",
          "iopub.execute_input": "2022-08-23T04:51:07.590903Z",
          "iopub.status.idle": "2022-08-23T04:51:07.599324Z",
          "shell.execute_reply.started": "2022-08-23T04:51:07.590857Z",
          "shell.execute_reply": "2022-08-23T04:51:07.598429Z"
        },
        "trusted": true,
        "id": "vH--Y7asxSTi"
      },
      "execution_count": 53,
      "outputs": []
    },
    {
      "cell_type": "code",
      "source": [
        "model = linear_model.LinearRegression()"
      ],
      "metadata": {
        "execution": {
          "iopub.status.busy": "2022-08-23T04:51:07.600956Z",
          "iopub.execute_input": "2022-08-23T04:51:07.601422Z",
          "iopub.status.idle": "2022-08-23T04:51:07.611181Z",
          "shell.execute_reply.started": "2022-08-23T04:51:07.601378Z",
          "shell.execute_reply": "2022-08-23T04:51:07.60959Z"
        },
        "trusted": true,
        "id": "WyvzMaQlxSTi"
      },
      "execution_count": 54,
      "outputs": []
    },
    {
      "cell_type": "code",
      "source": [
        "model.fit(x_train, y_train)"
      ],
      "metadata": {
        "execution": {
          "iopub.status.busy": "2022-08-23T04:51:07.612837Z",
          "iopub.execute_input": "2022-08-23T04:51:07.614255Z",
          "iopub.status.idle": "2022-08-23T04:51:07.627352Z",
          "shell.execute_reply.started": "2022-08-23T04:51:07.614203Z",
          "shell.execute_reply": "2022-08-23T04:51:07.625941Z"
        },
        "trusted": true,
        "colab": {
          "base_uri": "https://localhost:8080/"
        },
        "id": "bpBuU-iIxSTi",
        "outputId": "9b14075c-d7a6-49fa-8cbb-bb36d8dc6d35"
      },
      "execution_count": 55,
      "outputs": [
        {
          "output_type": "execute_result",
          "data": {
            "text/plain": [
              "LinearRegression()"
            ]
          },
          "metadata": {},
          "execution_count": 55
        }
      ]
    },
    {
      "cell_type": "code",
      "source": [
        "y_pred = model.predict(x_test)"
      ],
      "metadata": {
        "execution": {
          "iopub.status.busy": "2022-08-23T04:51:07.628938Z",
          "iopub.execute_input": "2022-08-23T04:51:07.629535Z",
          "iopub.status.idle": "2022-08-23T04:51:07.642036Z",
          "shell.execute_reply.started": "2022-08-23T04:51:07.629499Z",
          "shell.execute_reply": "2022-08-23T04:51:07.639771Z"
        },
        "trusted": true,
        "id": "M3N6PVnxxSTi"
      },
      "execution_count": 56,
      "outputs": []
    },
    {
      "cell_type": "code",
      "source": [
        "from sklearn.metrics import r2_score"
      ],
      "metadata": {
        "execution": {
          "iopub.status.busy": "2022-08-23T04:51:07.645328Z",
          "iopub.execute_input": "2022-08-23T04:51:07.648489Z",
          "iopub.status.idle": "2022-08-23T04:51:07.657616Z",
          "shell.execute_reply.started": "2022-08-23T04:51:07.648421Z",
          "shell.execute_reply": "2022-08-23T04:51:07.656047Z"
        },
        "trusted": true,
        "id": "dXJI0wVKxSTi"
      },
      "execution_count": 57,
      "outputs": []
    },
    {
      "cell_type": "code",
      "source": [
        "r2_score = model.score(x_test,y_test)"
      ],
      "metadata": {
        "execution": {
          "iopub.status.busy": "2022-08-23T04:51:07.660037Z",
          "iopub.execute_input": "2022-08-23T04:51:07.661207Z",
          "iopub.status.idle": "2022-08-23T04:51:07.671199Z",
          "shell.execute_reply.started": "2022-08-23T04:51:07.66114Z",
          "shell.execute_reply": "2022-08-23T04:51:07.669586Z"
        },
        "trusted": true,
        "id": "iwb8kGM2xSTi"
      },
      "execution_count": 58,
      "outputs": []
    },
    {
      "cell_type": "code",
      "source": [
        "print(r2_score*100,'%')"
      ],
      "metadata": {
        "execution": {
          "iopub.status.busy": "2022-08-23T04:51:07.673781Z",
          "iopub.execute_input": "2022-08-23T04:51:07.674921Z",
          "iopub.status.idle": "2022-08-23T04:51:07.683263Z",
          "shell.execute_reply.started": "2022-08-23T04:51:07.674856Z",
          "shell.execute_reply": "2022-08-23T04:51:07.681703Z"
        },
        "trusted": true,
        "colab": {
          "base_uri": "https://localhost:8080/"
        },
        "id": "hNTkJ4A8xSTj",
        "outputId": "ba8bc4d9-d3f5-4b87-cb27-d510a1ff0d5e"
      },
      "execution_count": 59,
      "outputs": [
        {
          "output_type": "stream",
          "name": "stdout",
          "text": [
            "45.207575767203224 %\n"
          ]
        }
      ]
    },
    {
      "cell_type": "markdown",
      "source": [
        "## Applying Random Forest Regressor"
      ],
      "metadata": {
        "id": "TmINAl0CxSTj"
      }
    },
    {
      "cell_type": "code",
      "source": [
        "from sklearn.ensemble import RandomForestRegressor"
      ],
      "metadata": {
        "execution": {
          "iopub.status.busy": "2022-08-23T04:51:07.685884Z",
          "iopub.execute_input": "2022-08-23T04:51:07.687024Z",
          "iopub.status.idle": "2022-08-23T04:51:07.697331Z",
          "shell.execute_reply.started": "2022-08-23T04:51:07.686959Z",
          "shell.execute_reply": "2022-08-23T04:51:07.695448Z"
        },
        "trusted": true,
        "id": "gf2qGxSPxSTj"
      },
      "execution_count": 60,
      "outputs": []
    },
    {
      "cell_type": "code",
      "source": [
        "model=RandomForestRegressor(n_estimators=10, verbose=4)"
      ],
      "metadata": {
        "execution": {
          "iopub.status.busy": "2022-08-23T04:51:07.700389Z",
          "iopub.execute_input": "2022-08-23T04:51:07.701589Z",
          "iopub.status.idle": "2022-08-23T04:51:07.710484Z",
          "shell.execute_reply.started": "2022-08-23T04:51:07.70152Z",
          "shell.execute_reply": "2022-08-23T04:51:07.708625Z"
        },
        "trusted": true,
        "id": "DNk4IiqJxSTj"
      },
      "execution_count": 61,
      "outputs": []
    },
    {
      "cell_type": "code",
      "source": [
        "model.fit(x_train, y_train)"
      ],
      "metadata": {
        "scrolled": true,
        "execution": {
          "iopub.status.busy": "2022-08-23T04:51:07.713351Z",
          "iopub.execute_input": "2022-08-23T04:51:07.714591Z",
          "iopub.status.idle": "2022-08-23T04:51:07.982697Z",
          "shell.execute_reply.started": "2022-08-23T04:51:07.714524Z",
          "shell.execute_reply": "2022-08-23T04:51:07.98135Z"
        },
        "trusted": true,
        "colab": {
          "base_uri": "https://localhost:8080/"
        },
        "id": "SXZmSSrmxSTj",
        "outputId": "98b815a1-3547-4018-b516-3b55c2b9793b"
      },
      "execution_count": 62,
      "outputs": [
        {
          "output_type": "stream",
          "name": "stderr",
          "text": [
            "[Parallel(n_jobs=1)]: Using backend SequentialBackend with 1 concurrent workers.\n",
            "[Parallel(n_jobs=1)]: Done   1 out of   1 | elapsed:    0.0s remaining:    0.0s\n",
            "[Parallel(n_jobs=1)]: Done   2 out of   2 | elapsed:    0.1s remaining:    0.0s\n",
            "[Parallel(n_jobs=1)]: Done   3 out of   3 | elapsed:    0.1s remaining:    0.0s\n"
          ]
        },
        {
          "output_type": "stream",
          "name": "stdout",
          "text": [
            "building tree 1 of 10\n",
            "building tree 2 of 10\n",
            "building tree 3 of 10\n",
            "building tree 4 of 10\n",
            "building tree 5 of 10\n",
            "building tree 6 of 10\n",
            "building tree 7 of 10\n",
            "building tree 8 of 10\n",
            "building tree 9 of 10\n",
            "building tree 10 of 10\n"
          ]
        },
        {
          "output_type": "stream",
          "name": "stderr",
          "text": [
            "[Parallel(n_jobs=1)]: Done  10 out of  10 | elapsed:    0.3s finished\n"
          ]
        },
        {
          "output_type": "execute_result",
          "data": {
            "text/plain": [
              "RandomForestRegressor(n_estimators=10, verbose=4)"
            ]
          },
          "metadata": {},
          "execution_count": 62
        }
      ]
    },
    {
      "cell_type": "code",
      "source": [
        "y_pred = model.predict(x_test)"
      ],
      "metadata": {
        "execution": {
          "iopub.status.busy": "2022-08-23T04:51:07.984365Z",
          "iopub.execute_input": "2022-08-23T04:51:07.98472Z",
          "iopub.status.idle": "2022-08-23T04:51:08.001259Z",
          "shell.execute_reply.started": "2022-08-23T04:51:07.984686Z",
          "shell.execute_reply": "2022-08-23T04:51:07.999753Z"
        },
        "trusted": true,
        "colab": {
          "base_uri": "https://localhost:8080/"
        },
        "id": "efXxeOVJxSTj",
        "outputId": "415b1076-320a-446f-96d0-f63088e90e96"
      },
      "execution_count": 63,
      "outputs": [
        {
          "output_type": "stream",
          "name": "stderr",
          "text": [
            "[Parallel(n_jobs=1)]: Using backend SequentialBackend with 1 concurrent workers.\n",
            "[Parallel(n_jobs=1)]: Done   1 out of   1 | elapsed:    0.0s remaining:    0.0s\n",
            "[Parallel(n_jobs=1)]: Done   2 out of   2 | elapsed:    0.0s remaining:    0.0s\n",
            "[Parallel(n_jobs=1)]: Done   3 out of   3 | elapsed:    0.0s remaining:    0.0s\n",
            "[Parallel(n_jobs=1)]: Done  10 out of  10 | elapsed:    0.0s finished\n"
          ]
        }
      ]
    },
    {
      "cell_type": "code",
      "source": [
        "r2_score = model.score(x_test,y_test)"
      ],
      "metadata": {
        "execution": {
          "iopub.status.busy": "2022-08-23T04:51:08.002809Z",
          "iopub.execute_input": "2022-08-23T04:51:08.003198Z",
          "iopub.status.idle": "2022-08-23T04:51:08.020158Z",
          "shell.execute_reply.started": "2022-08-23T04:51:08.003164Z",
          "shell.execute_reply": "2022-08-23T04:51:08.018927Z"
        },
        "trusted": true,
        "colab": {
          "base_uri": "https://localhost:8080/"
        },
        "id": "WM2GkJNSxSTk",
        "outputId": "527692c2-7e7c-4e10-97ff-a1bcb84f2ad2"
      },
      "execution_count": 64,
      "outputs": [
        {
          "output_type": "stream",
          "name": "stderr",
          "text": [
            "[Parallel(n_jobs=1)]: Using backend SequentialBackend with 1 concurrent workers.\n",
            "[Parallel(n_jobs=1)]: Done   1 out of   1 | elapsed:    0.0s remaining:    0.0s\n",
            "[Parallel(n_jobs=1)]: Done   2 out of   2 | elapsed:    0.0s remaining:    0.0s\n",
            "[Parallel(n_jobs=1)]: Done   3 out of   3 | elapsed:    0.0s remaining:    0.0s\n",
            "[Parallel(n_jobs=1)]: Done  10 out of  10 | elapsed:    0.0s finished\n"
          ]
        }
      ]
    },
    {
      "cell_type": "code",
      "source": [
        "print(r2_score*100,'%')"
      ],
      "metadata": {
        "execution": {
          "iopub.status.busy": "2022-08-23T04:51:08.021954Z",
          "iopub.execute_input": "2022-08-23T04:51:08.023687Z",
          "iopub.status.idle": "2022-08-23T04:51:08.030414Z",
          "shell.execute_reply.started": "2022-08-23T04:51:08.023627Z",
          "shell.execute_reply": "2022-08-23T04:51:08.028967Z"
        },
        "trusted": true,
        "colab": {
          "base_uri": "https://localhost:8080/"
        },
        "id": "nuxq_-lgxSTk",
        "outputId": "bf1d3800-cbb0-486f-dd0c-da851b720014"
      },
      "execution_count": 65,
      "outputs": [
        {
          "output_type": "stream",
          "name": "stdout",
          "text": [
            "96.60304382474939 %\n"
          ]
        }
      ]
    },
    {
      "cell_type": "markdown",
      "source": [
        "## Applying decision Tree Regressor"
      ],
      "metadata": {
        "id": "kLrQBuJLxSTk"
      }
    },
    {
      "cell_type": "code",
      "source": [
        "from sklearn.tree import DecisionTreeRegressor"
      ],
      "metadata": {
        "execution": {
          "iopub.status.busy": "2022-08-23T04:51:08.032149Z",
          "iopub.execute_input": "2022-08-23T04:51:08.033037Z",
          "iopub.status.idle": "2022-08-23T04:51:08.040314Z",
          "shell.execute_reply.started": "2022-08-23T04:51:08.033002Z",
          "shell.execute_reply": "2022-08-23T04:51:08.039015Z"
        },
        "trusted": true,
        "id": "q5At8zQ-xSTk"
      },
      "execution_count": 66,
      "outputs": []
    },
    {
      "cell_type": "code",
      "source": [
        "model = DecisionTreeRegressor()"
      ],
      "metadata": {
        "execution": {
          "iopub.status.busy": "2022-08-23T04:51:08.041779Z",
          "iopub.execute_input": "2022-08-23T04:51:08.042147Z",
          "iopub.status.idle": "2022-08-23T04:51:08.051543Z",
          "shell.execute_reply.started": "2022-08-23T04:51:08.0421Z",
          "shell.execute_reply": "2022-08-23T04:51:08.050265Z"
        },
        "trusted": true,
        "id": "7plp5KMZxSTk"
      },
      "execution_count": 67,
      "outputs": []
    },
    {
      "cell_type": "code",
      "source": [
        "model.fit(x_train, y_train)"
      ],
      "metadata": {
        "execution": {
          "iopub.status.busy": "2022-08-23T04:51:08.053666Z",
          "iopub.execute_input": "2022-08-23T04:51:08.054087Z",
          "iopub.status.idle": "2022-08-23T04:51:08.09975Z",
          "shell.execute_reply.started": "2022-08-23T04:51:08.054051Z",
          "shell.execute_reply": "2022-08-23T04:51:08.098392Z"
        },
        "trusted": true,
        "colab": {
          "base_uri": "https://localhost:8080/"
        },
        "id": "QdQOpCiLxSTk",
        "outputId": "3fc5e0e3-45d9-4950-80fe-8771ebe19108"
      },
      "execution_count": 68,
      "outputs": [
        {
          "output_type": "execute_result",
          "data": {
            "text/plain": [
              "DecisionTreeRegressor()"
            ]
          },
          "metadata": {},
          "execution_count": 68
        }
      ]
    },
    {
      "cell_type": "code",
      "source": [
        "y_pred = model.predict(x_test)"
      ],
      "metadata": {
        "execution": {
          "iopub.status.busy": "2022-08-23T04:51:08.110097Z",
          "iopub.execute_input": "2022-08-23T04:51:08.111358Z",
          "iopub.status.idle": "2022-08-23T04:51:08.117747Z",
          "shell.execute_reply.started": "2022-08-23T04:51:08.111274Z",
          "shell.execute_reply": "2022-08-23T04:51:08.116671Z"
        },
        "trusted": true,
        "id": "4nCD_HVzxSTl"
      },
      "execution_count": 69,
      "outputs": []
    },
    {
      "cell_type": "code",
      "source": [
        "r2_score = model.score(x_test,y_test)"
      ],
      "metadata": {
        "execution": {
          "iopub.status.busy": "2022-08-23T04:51:08.119149Z",
          "iopub.execute_input": "2022-08-23T04:51:08.120989Z",
          "iopub.status.idle": "2022-08-23T04:51:08.130871Z",
          "shell.execute_reply.started": "2022-08-23T04:51:08.120936Z",
          "shell.execute_reply": "2022-08-23T04:51:08.129592Z"
        },
        "trusted": true,
        "id": "C3qnWkt5xSTl"
      },
      "execution_count": 70,
      "outputs": []
    },
    {
      "cell_type": "code",
      "source": [
        "print(r2_score*100,'%')"
      ],
      "metadata": {
        "execution": {
          "iopub.status.busy": "2022-08-23T04:51:08.132204Z",
          "iopub.execute_input": "2022-08-23T04:51:08.132591Z",
          "iopub.status.idle": "2022-08-23T04:51:08.142619Z",
          "shell.execute_reply.started": "2022-08-23T04:51:08.132559Z",
          "shell.execute_reply": "2022-08-23T04:51:08.141455Z"
        },
        "trusted": true,
        "colab": {
          "base_uri": "https://localhost:8080/"
        },
        "id": "rITRpOXOxSTl",
        "outputId": "a0359390-570a-4711-aeec-449aa0fdac0c"
      },
      "execution_count": 71,
      "outputs": [
        {
          "output_type": "stream",
          "name": "stdout",
          "text": [
            "96.06150271818679 %\n"
          ]
        }
      ]
    },
    {
      "cell_type": "markdown",
      "source": [
        "## Applying KNeighors Regressor"
      ],
      "metadata": {
        "id": "y05OAfu4xSTl"
      }
    },
    {
      "cell_type": "code",
      "source": [
        "from sklearn.neighbors import KNeighborsRegressor"
      ],
      "metadata": {
        "execution": {
          "iopub.status.busy": "2022-08-23T04:51:08.144165Z",
          "iopub.execute_input": "2022-08-23T04:51:08.144583Z",
          "iopub.status.idle": "2022-08-23T04:51:08.154262Z",
          "shell.execute_reply.started": "2022-08-23T04:51:08.144545Z",
          "shell.execute_reply": "2022-08-23T04:51:08.152928Z"
        },
        "trusted": true,
        "id": "L-BOuF_uxSTl"
      },
      "execution_count": 72,
      "outputs": []
    },
    {
      "cell_type": "code",
      "source": [
        "model = KNeighborsRegressor(n_neighbors=10)"
      ],
      "metadata": {
        "execution": {
          "iopub.status.busy": "2022-08-23T04:51:08.156015Z",
          "iopub.execute_input": "2022-08-23T04:51:08.156664Z",
          "iopub.status.idle": "2022-08-23T04:51:08.1653Z",
          "shell.execute_reply.started": "2022-08-23T04:51:08.156616Z",
          "shell.execute_reply": "2022-08-23T04:51:08.164304Z"
        },
        "trusted": true,
        "id": "nHije2JtxSTl"
      },
      "execution_count": 73,
      "outputs": []
    },
    {
      "cell_type": "code",
      "source": [
        "model.fit(x_train, y_train)"
      ],
      "metadata": {
        "execution": {
          "iopub.status.busy": "2022-08-23T04:51:08.166863Z",
          "iopub.execute_input": "2022-08-23T04:51:08.167677Z",
          "iopub.status.idle": "2022-08-23T04:51:08.186713Z",
          "shell.execute_reply.started": "2022-08-23T04:51:08.16762Z",
          "shell.execute_reply": "2022-08-23T04:51:08.185361Z"
        },
        "trusted": true,
        "colab": {
          "base_uri": "https://localhost:8080/"
        },
        "id": "e7TX3miBxSTm",
        "outputId": "64648e68-23d8-476b-a3cf-e0b6d3f3e6ae"
      },
      "execution_count": 74,
      "outputs": [
        {
          "output_type": "execute_result",
          "data": {
            "text/plain": [
              "KNeighborsRegressor(n_neighbors=10)"
            ]
          },
          "metadata": {},
          "execution_count": 74
        }
      ]
    },
    {
      "cell_type": "code",
      "source": [
        "y_pred = model.predict(x_test)"
      ],
      "metadata": {
        "execution": {
          "iopub.status.busy": "2022-08-23T04:51:08.188565Z",
          "iopub.execute_input": "2022-08-23T04:51:08.188929Z",
          "iopub.status.idle": "2022-08-23T04:51:08.208367Z",
          "shell.execute_reply.started": "2022-08-23T04:51:08.188896Z",
          "shell.execute_reply": "2022-08-23T04:51:08.207241Z"
        },
        "trusted": true,
        "id": "u0HccdxexSTm"
      },
      "execution_count": 75,
      "outputs": []
    },
    {
      "cell_type": "code",
      "source": [
        "r2_score = model.score(x_test,y_test)"
      ],
      "metadata": {
        "execution": {
          "iopub.status.busy": "2022-08-23T04:51:08.209891Z",
          "iopub.execute_input": "2022-08-23T04:51:08.210727Z",
          "iopub.status.idle": "2022-08-23T04:51:08.230499Z",
          "shell.execute_reply.started": "2022-08-23T04:51:08.210688Z",
          "shell.execute_reply": "2022-08-23T04:51:08.229327Z"
        },
        "trusted": true,
        "id": "TmWwB5lBxSTm"
      },
      "execution_count": 76,
      "outputs": []
    },
    {
      "cell_type": "code",
      "source": [
        "print(r2_score*100,'%')"
      ],
      "metadata": {
        "execution": {
          "iopub.status.busy": "2022-08-23T04:51:08.232026Z",
          "iopub.execute_input": "2022-08-23T04:51:08.23321Z",
          "iopub.status.idle": "2022-08-23T04:51:08.238913Z",
          "shell.execute_reply.started": "2022-08-23T04:51:08.233169Z",
          "shell.execute_reply": "2022-08-23T04:51:08.237713Z"
        },
        "trusted": true,
        "colab": {
          "base_uri": "https://localhost:8080/"
        },
        "id": "NjJ1OZlQxSTm",
        "outputId": "1004f133-4900-4244-cc91-0a4d3b300978"
      },
      "execution_count": 77,
      "outputs": [
        {
          "output_type": "stream",
          "name": "stdout",
          "text": [
            "93.27903862433514 %\n"
          ]
        }
      ]
    },
    {
      "cell_type": "markdown",
      "source": [
        "### Random Forest Regressor has shown highest accuracy, followed by Decision Tree and KNeighbors Regressor. Linear Regressor has shown lowest accuracy."
      ],
      "metadata": {
        "id": "mDk79s6HxSTm"
      }
    }
  ]
}